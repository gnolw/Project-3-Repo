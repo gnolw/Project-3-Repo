{
 "cells": [
  {
   "cell_type": "markdown",
   "metadata": {
    "focus": false,
    "id": "69b9a648-bcc7-490d-9f9b-ea244d156bd6"
   },
   "source": [
    "# Web Scraping for Reddit & Predicting Comments"
   ]
  },
  {
   "cell_type": "markdown",
   "metadata": {
    "ExecuteTime": {
     "end_time": "2017-10-23T19:28:02.619411Z",
     "start_time": "2017-10-23T19:28:02.600856Z"
    }
   },
   "source": [
    "In this project, we will practice two major skills. Collecting data by scraping a website and then building a binary predictor.\n",
    "\n",
    "As we discussed in week 2, and earlier today, there are two components to starting a data science problem: the problem statement, and acquiring the data.\n",
    "\n",
    "For this article, your problem statement will be: _What characteristics of a post on Reddit contribute most to the overall interaction (as measured by number of comments)?_\n",
    "\n",
    "Your method for acquiring the data will be scraping the 'hot' threads as listed on the [Reddit homepage](https://www.reddit.com/). You'll acquire _AT LEAST FOUR_ pieces of information about each thread:\n",
    "1. The title of the thread\n",
    "2. The subreddit that the thread corresponds to\n",
    "3. The length of time it has been up on Reddit\n",
    "4. The number of comments on the thread\n",
    "\n",
    "Once you've got the data, you will build a classification model that, using Natural Language Processing and any other relevant features, predicts whether or not a given Reddit post will have above or below the _median_ number of comments.\n",
    "\n",
    "**BONUS PROBLEMS**\n",
    "1. If creating a logistic regression, GridSearch Ridge and Lasso for this model and report the best hyperparameter values.\n",
    "1. Scrape the actual text of the threads using Selenium (you'll learn about this in Webscraping II).\n",
    "2. Write the actual article that you're pitching and turn it into a blog post that you host on your personal website."
   ]
  },
  {
   "cell_type": "markdown",
   "metadata": {
    "focus": false,
    "id": "a948d79c-5527-4c0d-ab23-f5d43ce72056"
   },
   "source": [
    "### Scraping Thread Info from Reddit.com"
   ]
  },
  {
   "cell_type": "markdown",
   "metadata": {},
   "source": [
    "#### Set up a request (using requests) to the URL below. Use BeautifulSoup to parse the page and extract all results"
   ]
  },
  {
   "cell_type": "code",
   "execution_count": 1,
   "metadata": {},
   "outputs": [],
   "source": [
    "import pandas as pd\n",
    "import numpy as np\n",
    "import matplotlib.pyplot as plt\n",
    "import time\n",
    "import requests\n",
    "from bs4 import BeautifulSoup\n",
    "from IPython.core.debugger import set_trace\n",
    "import string\n",
    "\n",
    "from nltk.corpus import stopwords\n",
    "from nltk.stem import PorterStemmer\n",
    "from sklearn.model_selection import train_test_split\n",
    "from sklearn.ensemble import RandomForestClassifier\n",
    "from sklearn.model_selection import GridSearchCV\n",
    "\n",
    "from sklearn.metrics import classification_report, confusion_matrix, accuracy_score\n",
    "from sklearn.metrics import roc_auc_score\n",
    "from sklearn.metrics import roc_curve, auc\n",
    "import seaborn as sns"
   ]
  },
  {
   "cell_type": "code",
   "execution_count": 2,
   "metadata": {},
   "outputs": [],
   "source": [
    "base_url = \"https://www.reddit.com/\""
   ]
  },
  {
   "cell_type": "code",
   "execution_count": 3,
   "metadata": {},
   "outputs": [],
   "source": [
    "## YOUR CODE HERE\n",
    "# Establishing the connection to the web page:\n",
    "# Store User-agent credentials \n",
    "user_agent_info = {'User-agent': 'Mozilla/5.0 (Windows NT 10.0; Win64; x64) AppleWebKit/537.36 (KHTML, like Gecko) Chrome/64.0.3282.167 Safari/537.36'}\n",
    "response = requests.get(base_url, headers=user_agent_info)\n",
    "\n",
    "# You can use status codes to understand how the target server responds to your request.\n",
    "# Ex., 200 = OK, 400 = Bad Request, 403 = Forbidden, 404 = Not Found.\n",
    "# print(response.status_code)\n",
    "\n",
    "# Pull the HTML string out of requests and convert it to a Python string.\n",
    "html = response.text\n",
    "\n",
    "# The first 700 characters of the content.\n",
    "# print(html) "
   ]
  },
  {
   "cell_type": "markdown",
   "metadata": {},
   "source": [
    "While this has some more verbose elements removed, we can see that there is some structure to the above:\n",
    "- The thread title is within an `<a>` tag with the attribute `data-event-action=\"title\"`.\n",
    "- The time since the thread was created is within a `<time>` tag with attribute `class=\"live-timestamp\"`.\n",
    "- The subreddit is within an `<a>` tag with the attribute `class=\"subreddit hover may-blank\"`.\n",
    "- The number of comments is within an `<a>` tag with the attribute data-event-action=\"comments\"`."
   ]
  },
  {
   "cell_type": "markdown",
   "metadata": {},
   "source": [
    "## Write 4 functions to extract these items (one function for each): title, time, subreddit, and number of comments.¶\n",
    "Example\n",
    "```python\n",
    "def extract_title_from_result(result):\n",
    "    return result.find ...\n",
    "```\n",
    "\n",
    "##### - Make sure these functions are robust and can handle cases where the data/field may not be available.\n",
    ">- Remember to check if a field is empty or None for attempting to call methods on it\n",
    ">- Remember to use try/except if you anticipate errors.\n",
    "\n",
    "- **Test** the functions on the results above and simple examples"
   ]
  },
  {
   "cell_type": "markdown",
   "metadata": {},
   "source": [
    "While this has some more verbose elements removed, we can see that there is some structure to the above:\n",
    "- The thread title is within an `<a>` tag with the attribute `data-event-action=\"title\"`.\n",
    "- The time since the thread was created is within a `<time>` tag with attribute `class=\"live-timestamp\"`.\n",
    "- The subreddit is within an `<a>` tag with the attribute `class=\"subreddit hover may-blank\"`.\n",
    "- The number of comments is within an `<a>` tag with the attribute data-event-action=\"comments\"`."
   ]
  },
  {
   "cell_type": "code",
   "execution_count": 4,
   "metadata": {},
   "outputs": [],
   "source": [
    "soup = BeautifulSoup(html, 'lxml')"
   ]
  },
  {
   "cell_type": "code",
   "execution_count": 5,
   "metadata": {},
   "outputs": [],
   "source": [
    "# TITLE\n",
    "# <a class=\"title may-blank loggedin outbound\" data-event-action=\"title\" href=\"https://www.hln.be/nieuws/binnenland/belgie-wint-rechtszaak-tegen-facebook-omdat-het-privacy-niet-respecteert~a81e5c64\" tabindex=\"1\" data-href-url=\"https://www.hln.be/nieuws/binnenland/belgie-wint-rechtszaak-tegen-facebook-omdat-het-privacy-niet-respecteert~a81e5c64\" data-outbound-url=\"https://out.reddit.com/t3_7xyszx?url=https%3A%2F%2Fwww.hln.be%2Fnieuws%2Fbinnenland%2Fbelgie-wint-rechtszaak-tegen-facebook-omdat-het-privacy-niet-respecteert%7Ea81e5c64&amp;token=AQAA47GHWuzvgnwhB-ybfuvEO6Kc5MBHUiYUOg52Z04J4rR9EEvG&amp;app_name=reddit.com\" data-outbound-expiration=\"1518842339000\" rel=\"\">Belgium wins trial against Facebook for violating privacy laws</a>"
   ]
  },
  {
   "cell_type": "code",
   "execution_count": 6,
   "metadata": {},
   "outputs": [],
   "source": [
    "# FUNCTION TO EXTRACT TITLE FROM SOUP RESULT SET\n",
    "### need to add error handling\n",
    "def extract_title(soup):\n",
    "\n",
    "    result_list = soup.body.find_all('a', {'data-event-action':'title'})\n",
    "\n",
    "    results = []\n",
    "    for result in result_list:\n",
    "        thread_title = {}\n",
    "        thread_title = result.text\n",
    "        results.append(thread_title)\n",
    "\n",
    "    return results "
   ]
  },
  {
   "cell_type": "code",
   "execution_count": 7,
   "metadata": {},
   "outputs": [],
   "source": [
    "# TIME \n",
    "# <time title=\"Fri Feb 16 13:46:19 2018 UTC\" datetime=\"2018-02-16T13:46:19+00:00\" class=\"live-timestamp\">14 hours ago</time>"
   ]
  },
  {
   "cell_type": "code",
   "execution_count": 8,
   "metadata": {},
   "outputs": [],
   "source": [
    "# FUNCTION TO EXTRACT TIME SINCE CREATED FROM SOUP RESULT SET \n",
    "### need to add error handling\n",
    "def extract_time(soup): \n",
    "\n",
    "    result_list = soup.body.find_all('time', {'class':'live-timestamp'})\n",
    "\n",
    "    results = []\n",
    "    for result in result_list:\n",
    "        time_since_created = {}\n",
    "        time_since_created = result.text\n",
    "        results.append(time_since_created)\n",
    "        \n",
    "    return results"
   ]
  },
  {
   "cell_type": "code",
   "execution_count": 9,
   "metadata": {},
   "outputs": [],
   "source": [
    "# SUBREDDIT\n",
    "# <a href=\"https://www.reddit.com/r/technology/\" class=\"subreddit hover may-blank\">r/technology</a>"
   ]
  },
  {
   "cell_type": "code",
   "execution_count": 10,
   "metadata": {},
   "outputs": [],
   "source": [
    "# FUNCTION TO EXTRACT SUBREDDIT FROM SOUP RESULT SET \n",
    "### need to add error handling\n",
    "def extract_subreddit(soup): \n",
    "\n",
    "    result_list = soup.body.find_all('a', {'class':'subreddit hover may-blank'})\n",
    "\n",
    "    results = []\n",
    "    for result in result_list:\n",
    "        subreddit = {}\n",
    "        subreddit = result.text\n",
    "        results.append(subreddit)\n",
    "        \n",
    "    return results "
   ]
  },
  {
   "cell_type": "code",
   "execution_count": 11,
   "metadata": {},
   "outputs": [],
   "source": [
    "# COMMENTS \n",
    "# <a href=\"/r/technology/comments/7xyszx/belgium_wins_trial_against_facebook_for_violating/\" data-inbound-url=\"/r/technology/comments/7xyszx/belgium_wins_trial_against_facebook_for_violating/?utm_content=comments&amp;utm_medium=best&amp;utm_source=reddit&amp;utm_name=frontpage\" data-href-url=\"/r/technology/comments/7xyszx/belgium_wins_trial_against_facebook_for_violating/\" data-event-action=\"comments\" class=\"bylink comments may-blank\" rel=\"nofollow\">661 comments</a>"
   ]
  },
  {
   "cell_type": "code",
   "execution_count": 12,
   "metadata": {},
   "outputs": [],
   "source": [
    "# FUNCTION TO EXTRACT NUMBER OF COMMENTS FROM SOUP RESULT SET  \n",
    "### need to add error handling\n",
    "def extract_comments(soup): \n",
    "\n",
    "    result_list = soup.body.find_all('a', {'data-event-action':'comments'})\n",
    "\n",
    "    results = []\n",
    "    for result in result_list:\n",
    "        number_of_comments = {}\n",
    "        number_of_comments = result.text\n",
    "        results.append(number_of_comments)\n",
    "        \n",
    "    return results "
   ]
  },
  {
   "cell_type": "markdown",
   "metadata": {},
   "source": [
    "## Write one more function that finds the last `id` on the page, and stores it."
   ]
  },
  {
   "cell_type": "code",
   "execution_count": 13,
   "metadata": {},
   "outputs": [],
   "source": [
    "# FUNCTION TO EXTRACT LAST ID ON PAGE FROM SOUP RESULT SET \n",
    "### USE LINK FROM \"NEXT\" BUTTON INSTEAD \n",
    "### need to add error handling\n",
    "def get_next_page(soup): \n",
    "    next_url = soup.body.find('span', {'class':'next-button'})\n",
    "    next_url = next_url.find('a')['href']\n",
    "    response = requests.get(next_url, headers = user_agent_info)\n",
    "    html = response.text\n",
    "    soup = BeautifulSoup(html, 'lxml') \n",
    "\n",
    "    return soup "
   ]
  },
  {
   "cell_type": "code",
   "execution_count": 14,
   "metadata": {},
   "outputs": [],
   "source": [
    "# FUNCTION TO RESET SOUP TO FIRST PAGE \n",
    "# reset url to first page and reload to soup (soup = reset(soup))\n",
    "def reset(soup): \n",
    "    response = requests.get(base_url, headers = user_agent_info)\n",
    "    html = response.text\n",
    "    soup = BeautifulSoup(html, 'lxml')\n",
    "    \n",
    "    return soup"
   ]
  },
  {
   "cell_type": "code",
   "execution_count": 15,
   "metadata": {
    "focus": false,
    "id": "783fd153-28ac-47ab-bfca-27e7c1de95b4"
   },
   "outputs": [],
   "source": [
    "# FUNCTION TO SAVE DATAFRAME TO CSV\n",
    "# copied from below in order to have all functions defined before main run\n",
    "def save_csv(i): \n",
    "    suffix = '_' + str(i) + '.csv'\n",
    "    filepath = './scraped_data/test' + suffix \n",
    "    df_all.to_csv(filepath, encoding='utf-8')"
   ]
  },
  {
   "cell_type": "markdown",
   "metadata": {},
   "source": [
    "## (Optional) Collect more information\n",
    "\n",
    "While we only require you to collect four features, there may be other info that you can find on the results page that might be useful. Feel free to write more functions so that you have more interesting and useful data."
   ]
  },
  {
   "cell_type": "code",
   "execution_count": 16,
   "metadata": {},
   "outputs": [],
   "source": [
    "## YOUR CODE HERE"
   ]
  },
  {
   "cell_type": "markdown",
   "metadata": {},
   "source": [
    "## Now, let's put it all together.\n",
    "\n",
    "Use the functions you wrote above to parse out the 4 fields - title, time, subreddit, and number of comments. Create a dataframe from the results with those 4 columns."
   ]
  },
  {
   "cell_type": "code",
   "execution_count": null,
   "metadata": {
    "scrolled": true
   },
   "outputs": [],
   "source": [
    "# COMBINE COLUMNS FROM FUNCTIONS INTO ONE CUMULATIVE DATAFRAME \n",
    "start_time = time.localtime()\n",
    "print('Start time: ', start_time)\n",
    "# start from first page\n",
    "soup = reset(soup)\n",
    "\n",
    "# set list holder and master dataframe\n",
    "combined_list = []\n",
    "df_all = pd.DataFrame()\n",
    "\n",
    "# iterate through pages (25 rows per page)\n",
    "for i in range(25, 501, 25): # start, max_rows, step\n",
    "\n",
    "    # get page of reults for each column \n",
    "    titles = extract_title(soup)\n",
    "    times = extract_time(soup)\n",
    "    subreddits = extract_subreddit(soup)\n",
    "    comments = extract_comments(soup)\n",
    "    combined_list = [titles, times, subreddits, comments]\n",
    "\n",
    "    # store page in temp dataframe\n",
    "    df_temp = pd.DataFrame(combined_list)\n",
    "    # need to flip rows and columns \n",
    "    df_temp = df_temp.transpose() \n",
    "    # add column names \n",
    "    df_temp.columns = ['Title', 'Time', 'Subreddit', 'Comments']\n",
    "\n",
    "    # append current page df to master dataframe \n",
    "    df_all = df_all.append(df_temp)\n",
    "\n",
    "    # incremental save 100 at a time with appropriate name\n",
    "    if i % 100 == 0: \n",
    "        save_csv(i)\n",
    "\n",
    "    # get next page and reset soup variable\n",
    "    try: \n",
    "        soup = get_next_page(soup)\n",
    "        print('Got next page at iteration ' + str(i))\n",
    "    except:\n",
    "        print('Error in get_next_page at iteration ' + str(i))\n",
    "        break  \n",
    "\n",
    "    # sleep to avoid too many requests\n",
    "    time.sleep(3)\n",
    "\n",
    "print(\"All done parsing \" + str(i) + \" records!\")\n",
    "end_time = time.localtime()\n",
    "print('End time: ', end_time)"
   ]
  },
  {
   "cell_type": "markdown",
   "metadata": {
    "focus": false,
    "id": "43e71edd-210e-42b1-9336-70a931f048af"
   },
   "source": [
    "### Save your results as a CSV\n",
    "You may do this regularly while scraping data as well, so that if your scraper stops of your computer crashes, you don't lose all your data."
   ]
  },
  {
   "cell_type": "code",
   "execution_count": 18,
   "metadata": {
    "focus": false,
    "id": "783fd153-28ac-47ab-bfca-27e7c1de95b4"
   },
   "outputs": [],
   "source": [
    "# # ADDED TO LIST OF FUNCTIONS ABOVE\n",
    "# # Export to csv\n",
    "# def save_csv(i): \n",
    "#     suffix = '_' + str(i) + '.csv'\n",
    "#     filepath = './scraped_data/test' + suffix \n",
    "#     df_all.to_csv(filepath, encoding='utf-8')"
   ]
  },
  {
   "cell_type": "markdown",
   "metadata": {},
   "source": [
    "### \n",
    "### \n",
    "### ALL DONE SCRAPING - LOAD FILES AND RUN MODELS/REPORTS FROM HERE DOWN\n",
    "### \n",
    "### "
   ]
  },
  {
   "cell_type": "markdown",
   "metadata": {
    "focus": false,
    "id": "04563b69-f7b6-466f-9d65-fc62c9ddee6a"
   },
   "source": [
    "## Predicting comments using Random Forests + Another Classifier"
   ]
  },
  {
   "cell_type": "markdown",
   "metadata": {
    "focus": false,
    "id": "243e949e-2742-40af-872e-fec475fd306c"
   },
   "source": [
    "#### Load in the the data of scraped results"
   ]
  },
  {
   "cell_type": "code",
   "execution_count": 301,
   "metadata": {
    "focus": false,
    "id": "588f9845-6143-4bcc-bfd1-85d45b79303d",
    "scrolled": true
   },
   "outputs": [
    {
     "name": "stdout",
     "output_type": "stream",
     "text": [
      "What is your filename? test_5000.csv\n",
      "File loaded into df_scraped.\n"
     ]
    }
   ],
   "source": [
    "## YOUR CODE HERE\n",
    "df_scraped = pd.DataFrame()\n",
    "filepath = './scraped_data/'\n",
    "filename = input(\"What is your filename? \")\n",
    "fullpath = filepath + filename\n",
    "try: \n",
    "    df_scraped = pd.read_csv(fullpath)\n",
    "    print(\"File loaded into df_scraped.\")\n",
    "except: \n",
    "    print(\"Could not find that filename.\")\n",
    "    pass\n"
   ]
  },
  {
   "cell_type": "code",
   "execution_count": 302,
   "metadata": {
    "scrolled": true
   },
   "outputs": [
    {
     "name": "stdout",
     "output_type": "stream",
     "text": [
      "<class 'pandas.core.frame.DataFrame'>\n",
      "RangeIndex: 5000 entries, 0 to 4999\n",
      "Data columns (total 5 columns):\n",
      "Unnamed: 0    5000 non-null int64\n",
      "Title         5000 non-null object\n",
      "Time          5000 non-null object\n",
      "Subreddit     5000 non-null object\n",
      "Comments      5000 non-null object\n",
      "dtypes: int64(1), object(4)\n",
      "memory usage: 195.4+ KB\n"
     ]
    }
   ],
   "source": [
    "df_scraped.info()"
   ]
  },
  {
   "cell_type": "code",
   "execution_count": 303,
   "metadata": {
    "scrolled": true
   },
   "outputs": [
    {
     "data": {
      "text/html": [
       "<div>\n",
       "<style>\n",
       "    .dataframe thead tr:only-child th {\n",
       "        text-align: right;\n",
       "    }\n",
       "\n",
       "    .dataframe thead th {\n",
       "        text-align: left;\n",
       "    }\n",
       "\n",
       "    .dataframe tbody tr th {\n",
       "        vertical-align: top;\n",
       "    }\n",
       "</style>\n",
       "<table border=\"1\" class=\"dataframe\">\n",
       "  <thead>\n",
       "    <tr style=\"text-align: right;\">\n",
       "      <th></th>\n",
       "      <th>Unnamed: 0</th>\n",
       "      <th>Title</th>\n",
       "      <th>Time</th>\n",
       "      <th>Subreddit</th>\n",
       "      <th>Comments</th>\n",
       "    </tr>\n",
       "  </thead>\n",
       "  <tbody>\n",
       "    <tr>\n",
       "      <th>0</th>\n",
       "      <td>0</td>\n",
       "      <td>The Rock's stunt double is also his real-life ...</td>\n",
       "      <td>5 hours ago</td>\n",
       "      <td>r/pics</td>\n",
       "      <td>1178 comments</td>\n",
       "    </tr>\n",
       "    <tr>\n",
       "      <th>1</th>\n",
       "      <td>1</td>\n",
       "      <td>[Image] Found a note from 2 months ago, made a...</td>\n",
       "      <td>1 hour ago</td>\n",
       "      <td>r/GetMotivated</td>\n",
       "      <td>208 comments</td>\n",
       "    </tr>\n",
       "    <tr>\n",
       "      <th>2</th>\n",
       "      <td>2</td>\n",
       "      <td>The next Wayne Gretzky</td>\n",
       "      <td>4 hours ago</td>\n",
       "      <td>r/gifs</td>\n",
       "      <td>1068 comments</td>\n",
       "    </tr>\n",
       "    <tr>\n",
       "      <th>3</th>\n",
       "      <td>3</td>\n",
       "      <td>Joel McHale says E! told him to lay off the Ka...</td>\n",
       "      <td>6 hours ago</td>\n",
       "      <td>r/television</td>\n",
       "      <td>1120 comments</td>\n",
       "    </tr>\n",
       "    <tr>\n",
       "      <th>4</th>\n",
       "      <td>4</td>\n",
       "      <td>It’s the truth...</td>\n",
       "      <td>4 hours ago</td>\n",
       "      <td>r/gaming</td>\n",
       "      <td>590 comments</td>\n",
       "    </tr>\n",
       "  </tbody>\n",
       "</table>\n",
       "</div>"
      ],
      "text/plain": [
       "   Unnamed: 0                                              Title         Time  \\\n",
       "0           0  The Rock's stunt double is also his real-life ...  5 hours ago   \n",
       "1           1  [Image] Found a note from 2 months ago, made a...   1 hour ago   \n",
       "2           2                             The next Wayne Gretzky  4 hours ago   \n",
       "3           3  Joel McHale says E! told him to lay off the Ka...  6 hours ago   \n",
       "4           4                                  It’s the truth...  4 hours ago   \n",
       "\n",
       "        Subreddit       Comments  \n",
       "0          r/pics  1178 comments  \n",
       "1  r/GetMotivated   208 comments  \n",
       "2          r/gifs  1068 comments  \n",
       "3    r/television  1120 comments  \n",
       "4        r/gaming   590 comments  "
      ]
     },
     "execution_count": 303,
     "metadata": {},
     "output_type": "execute_result"
    }
   ],
   "source": [
    "df_scraped.head()"
   ]
  },
  {
   "cell_type": "code",
   "execution_count": 304,
   "metadata": {
    "scrolled": true
   },
   "outputs": [
    {
     "data": {
      "text/html": [
       "<div>\n",
       "<style>\n",
       "    .dataframe thead tr:only-child th {\n",
       "        text-align: right;\n",
       "    }\n",
       "\n",
       "    .dataframe thead th {\n",
       "        text-align: left;\n",
       "    }\n",
       "\n",
       "    .dataframe tbody tr th {\n",
       "        vertical-align: top;\n",
       "    }\n",
       "</style>\n",
       "<table border=\"1\" class=\"dataframe\">\n",
       "  <thead>\n",
       "    <tr style=\"text-align: right;\">\n",
       "      <th></th>\n",
       "      <th>Title</th>\n",
       "      <th>Time</th>\n",
       "      <th>Subreddit</th>\n",
       "      <th>Comments</th>\n",
       "    </tr>\n",
       "  </thead>\n",
       "  <tbody>\n",
       "    <tr>\n",
       "      <th>0</th>\n",
       "      <td>The Rock's stunt double is also his real-life ...</td>\n",
       "      <td>5 hours ago</td>\n",
       "      <td>r/pics</td>\n",
       "      <td>1178 comments</td>\n",
       "    </tr>\n",
       "    <tr>\n",
       "      <th>1</th>\n",
       "      <td>[Image] Found a note from 2 months ago, made a...</td>\n",
       "      <td>1 hour ago</td>\n",
       "      <td>r/GetMotivated</td>\n",
       "      <td>208 comments</td>\n",
       "    </tr>\n",
       "    <tr>\n",
       "      <th>2</th>\n",
       "      <td>The next Wayne Gretzky</td>\n",
       "      <td>4 hours ago</td>\n",
       "      <td>r/gifs</td>\n",
       "      <td>1068 comments</td>\n",
       "    </tr>\n",
       "    <tr>\n",
       "      <th>3</th>\n",
       "      <td>Joel McHale says E! told him to lay off the Ka...</td>\n",
       "      <td>6 hours ago</td>\n",
       "      <td>r/television</td>\n",
       "      <td>1120 comments</td>\n",
       "    </tr>\n",
       "    <tr>\n",
       "      <th>4</th>\n",
       "      <td>It’s the truth...</td>\n",
       "      <td>4 hours ago</td>\n",
       "      <td>r/gaming</td>\n",
       "      <td>590 comments</td>\n",
       "    </tr>\n",
       "  </tbody>\n",
       "</table>\n",
       "</div>"
      ],
      "text/plain": [
       "                                               Title         Time  \\\n",
       "0  The Rock's stunt double is also his real-life ...  5 hours ago   \n",
       "1  [Image] Found a note from 2 months ago, made a...   1 hour ago   \n",
       "2                             The next Wayne Gretzky  4 hours ago   \n",
       "3  Joel McHale says E! told him to lay off the Ka...  6 hours ago   \n",
       "4                                  It’s the truth...  4 hours ago   \n",
       "\n",
       "        Subreddit       Comments  \n",
       "0          r/pics  1178 comments  \n",
       "1  r/GetMotivated   208 comments  \n",
       "2          r/gifs  1068 comments  \n",
       "3    r/television  1120 comments  \n",
       "4        r/gaming   590 comments  "
      ]
     },
     "execution_count": 304,
     "metadata": {},
     "output_type": "execute_result"
    }
   ],
   "source": [
    "# DROP Unnamed: 0 COLUMN \n",
    "df_scraped = df_scraped.drop('Unnamed: 0', axis=1)\n",
    "df_scraped.head()"
   ]
  },
  {
   "cell_type": "code",
   "execution_count": 305,
   "metadata": {
    "scrolled": true
   },
   "outputs": [],
   "source": [
    "# STRIP STRING FROM COMMENTS AND TRANSFORM TO INT \n",
    "nums = df_scraped.Comments.str.replace(' comments', '')\n",
    "nums = nums.str.replace('comment', '1')\n",
    "nums = nums.str.replace(' ', '')\n",
    "df_scraped.Comments = nums.astype(int)"
   ]
  },
  {
   "cell_type": "code",
   "execution_count": 306,
   "metadata": {},
   "outputs": [
    {
     "name": "stdout",
     "output_type": "stream",
     "text": [
      "<class 'pandas.core.frame.DataFrame'>\n",
      "RangeIndex: 5000 entries, 0 to 4999\n",
      "Data columns (total 4 columns):\n",
      "Title        5000 non-null object\n",
      "Time         5000 non-null object\n",
      "Subreddit    5000 non-null object\n",
      "Comments     5000 non-null int32\n",
      "dtypes: int32(1), object(3)\n",
      "memory usage: 136.8+ KB\n"
     ]
    }
   ],
   "source": [
    "df_scraped.info()"
   ]
  },
  {
   "cell_type": "markdown",
   "metadata": {
    "focus": false,
    "id": "c7631f51-07f2-4c79-a093-3e9bc7849a48"
   },
   "source": [
    "#### We want to predict a binary variable - whether the number of comments was low or high. Compute the median number of comments and create a new binary variable that is true when the number of comments is high (above the median)\n",
    "\n",
    "We could also perform Linear Regression (or any regression) to predict the number of comments here. Instead, we are going to convert this into a _binary_ classification problem, by predicting two classes, HIGH vs LOW number of comments.\n",
    "\n",
    "While performing regression may be better, performing classification may help remove some of the noise of the extremely popular threads. We don't _have_ to choose the `median` as the splitting point - we could also split on the 75th percentile or any other reasonable breaking point.\n",
    "\n",
    "In fact, the ideal scenario may be to predict many levels of comment numbers. "
   ]
  },
  {
   "cell_type": "code",
   "execution_count": 307,
   "metadata": {},
   "outputs": [
    {
     "name": "stdout",
     "output_type": "stream",
     "text": [
      "Median: "
     ]
    },
    {
     "name": "stderr",
     "output_type": "stream",
     "text": [
      "C:\\Users\\CHIWLONG\\Anaconda3\\lib\\site-packages\\ipykernel_launcher.py:12: SettingWithCopyWarning: \n",
      "A value is trying to be set on a copy of a slice from a DataFrame\n",
      "\n",
      "See the caveats in the documentation: http://pandas.pydata.org/pandas-docs/stable/indexing.html#indexing-view-versus-copy\n",
      "  if sys.path[0] == '':\n",
      "C:\\Users\\CHIWLONG\\Anaconda3\\lib\\site-packages\\ipykernel_launcher.py:16: SettingWithCopyWarning: \n",
      "A value is trying to be set on a copy of a slice from a DataFrame\n",
      "\n",
      "See the caveats in the documentation: http://pandas.pydata.org/pandas-docs/stable/indexing.html#indexing-view-versus-copy\n",
      "  app.launch_new_instance()\n"
     ]
    },
    {
     "name": "stdout",
     "output_type": "stream",
     "text": [
      "121\n"
     ]
    }
   ],
   "source": [
    "# GET MEDIAN VALUE FOR COMMENTS AND ASSIGN BINARY VARIABLE\n",
    "median = int(np.median(df_scraped.Comments))\n",
    "print('Median:', median)\n",
    "df_scraped['High'] = pd.Series()\n",
    "high = 0\n",
    "max_count = df_scraped.Comments.count()\n",
    "for row in range(0, max_count): \n",
    "    #for comment in df_scraped.Comments: \n",
    "        if df_scraped.Comments[row] > median: \n",
    "            #high = 1\n",
    "            #print('High!!!', high) # <== 1, high=True'\n",
    "            df_scraped['High'][row] = int(1)\n",
    "        else: \n",
    "            #high = 0\n",
    "            #print('Low...', high) # <== 0, high=False\n",
    "            df_scraped['High'][row] = int(0)\n",
    "            \n",
    "df_scraped.High = df_scraped.High.astype(int)"
   ]
  },
  {
   "cell_type": "code",
   "execution_count": 308,
   "metadata": {
    "scrolled": true
   },
   "outputs": [
    {
     "data": {
      "text/html": [
       "<div>\n",
       "<style>\n",
       "    .dataframe thead tr:only-child th {\n",
       "        text-align: right;\n",
       "    }\n",
       "\n",
       "    .dataframe thead th {\n",
       "        text-align: left;\n",
       "    }\n",
       "\n",
       "    .dataframe tbody tr th {\n",
       "        vertical-align: top;\n",
       "    }\n",
       "</style>\n",
       "<table border=\"1\" class=\"dataframe\">\n",
       "  <thead>\n",
       "    <tr style=\"text-align: right;\">\n",
       "      <th></th>\n",
       "      <th>Title</th>\n",
       "      <th>Time</th>\n",
       "      <th>Subreddit</th>\n",
       "      <th>Comments</th>\n",
       "      <th>High</th>\n",
       "    </tr>\n",
       "  </thead>\n",
       "  <tbody>\n",
       "    <tr>\n",
       "      <th>0</th>\n",
       "      <td>The Rock's stunt double is also his real-life ...</td>\n",
       "      <td>5 hours ago</td>\n",
       "      <td>r/pics</td>\n",
       "      <td>1178</td>\n",
       "      <td>1</td>\n",
       "    </tr>\n",
       "    <tr>\n",
       "      <th>1</th>\n",
       "      <td>[Image] Found a note from 2 months ago, made a...</td>\n",
       "      <td>1 hour ago</td>\n",
       "      <td>r/GetMotivated</td>\n",
       "      <td>208</td>\n",
       "      <td>1</td>\n",
       "    </tr>\n",
       "    <tr>\n",
       "      <th>2</th>\n",
       "      <td>The next Wayne Gretzky</td>\n",
       "      <td>4 hours ago</td>\n",
       "      <td>r/gifs</td>\n",
       "      <td>1068</td>\n",
       "      <td>1</td>\n",
       "    </tr>\n",
       "    <tr>\n",
       "      <th>3</th>\n",
       "      <td>Joel McHale says E! told him to lay off the Ka...</td>\n",
       "      <td>6 hours ago</td>\n",
       "      <td>r/television</td>\n",
       "      <td>1120</td>\n",
       "      <td>1</td>\n",
       "    </tr>\n",
       "    <tr>\n",
       "      <th>4</th>\n",
       "      <td>It’s the truth...</td>\n",
       "      <td>4 hours ago</td>\n",
       "      <td>r/gaming</td>\n",
       "      <td>590</td>\n",
       "      <td>1</td>\n",
       "    </tr>\n",
       "  </tbody>\n",
       "</table>\n",
       "</div>"
      ],
      "text/plain": [
       "                                               Title         Time  \\\n",
       "0  The Rock's stunt double is also his real-life ...  5 hours ago   \n",
       "1  [Image] Found a note from 2 months ago, made a...   1 hour ago   \n",
       "2                             The next Wayne Gretzky  4 hours ago   \n",
       "3  Joel McHale says E! told him to lay off the Ka...  6 hours ago   \n",
       "4                                  It’s the truth...  4 hours ago   \n",
       "\n",
       "        Subreddit  Comments  High  \n",
       "0          r/pics      1178     1  \n",
       "1  r/GetMotivated       208     1  \n",
       "2          r/gifs      1068     1  \n",
       "3    r/television      1120     1  \n",
       "4        r/gaming       590     1  "
      ]
     },
     "execution_count": 308,
     "metadata": {},
     "output_type": "execute_result"
    }
   ],
   "source": [
    "df_scraped.head()"
   ]
  },
  {
   "cell_type": "markdown",
   "metadata": {
    "focus": false,
    "id": "a7afb2c0-d41e-4779-8216-91cd8dd4473f"
   },
   "source": [
    "#### Thought experiment: What is the baseline accuracy for this model?"
   ]
  },
  {
   "cell_type": "code",
   "execution_count": 309,
   "metadata": {
    "focus": false,
    "id": "87a17d3d-b7f4-4747-9f75-f9af1d18a174"
   },
   "outputs": [
    {
     "name": "stdout",
     "output_type": "stream",
     "text": [
      "lows: 0.5006 highs: 0.4994 baseline_accuracy: 0.5006\n"
     ]
    }
   ],
   "source": [
    "## BASELINE ACCURACY \n",
    "pct_low = df_scraped.High.value_counts()[0] / df_scraped.High.value_counts().sum()\n",
    "pct_high = df_scraped.High.value_counts()[1] / df_scraped.High.value_counts().sum()\n",
    "baseline_accuracy = 0.0\n",
    "\n",
    "if pct_low > pct_high: \n",
    "    baseline_accuracy = pct_low\n",
    "else: \n",
    "    baseline_accuracy = pct_high\n",
    "    \n",
    "print('lows:', pct_low, 'highs:', pct_high, 'baseline_accuracy:', baseline_accuracy)"
   ]
  },
  {
   "cell_type": "markdown",
   "metadata": {
    "focus": false,
    "id": "4fb29de2-5b98-474c-a4ad-5170b72b9aea"
   },
   "source": [
    "#### Create a Random Forest model to predict High/Low number of comments using Sklearn. Start by ONLY using the subreddit as a feature. "
   ]
  },
  {
   "cell_type": "code",
   "execution_count": 400,
   "metadata": {
    "focus": false,
    "id": "ddbc6159-6854-4ca7-857f-bfecdaf6d9c2"
   },
   "outputs": [],
   "source": [
    "## IMPORTS FOR MODELING \n",
    "from sklearn.model_selection import cross_val_score, StratifiedKFold, train_test_split\n",
    "from sklearn.ensemble import RandomForestClassifier \n",
    "from sklearn.preprocessing import LabelEncoder\n",
    "from sklearn.feature_extraction.text import CountVectorizer \n",
    "\n",
    "cvec = CountVectorizer(stop_words = 'english')\n",
    "y = df_scraped['High']"
   ]
  },
  {
   "cell_type": "code",
   "execution_count": 401,
   "metadata": {},
   "outputs": [],
   "source": [
    "# USE SUBREDDIT AS PREDICTOR \n",
    "X = df_scraped['Subreddit']\n",
    "\n",
    "X = pd.DataFrame(cvec.fit_transform(X).todense(),\n",
    "            columns=cvec.get_feature_names())\n",
    "\n",
    "X_train, X_test, y_train, y_test = train_test_split(X, y, test_size=0.3, random_state=42)"
   ]
  },
  {
   "cell_type": "code",
   "execution_count": 402,
   "metadata": {
    "scrolled": true
   },
   "outputs": [
    {
     "data": {
      "text/plain": [
       "RandomForestClassifier(bootstrap=True, class_weight=None, criterion='gini',\n",
       "            max_depth=None, max_features='auto', max_leaf_nodes=None,\n",
       "            min_impurity_decrease=0.0, min_impurity_split=None,\n",
       "            min_samples_leaf=1, min_samples_split=2,\n",
       "            min_weight_fraction_leaf=0.0, n_estimators=10, n_jobs=-1,\n",
       "            oob_score=False, random_state=42, verbose=0, warm_start=False)"
      ]
     },
     "execution_count": 402,
     "metadata": {},
     "output_type": "execute_result"
    }
   ],
   "source": [
    "# FIT MODEL FOR SUBREDDIT PREDICTOR \n",
    "rfc = RandomForestClassifier(n_jobs=-1, random_state=42)\n",
    "rfc.fit(X_train, y_train)"
   ]
  },
  {
   "cell_type": "code",
   "execution_count": 403,
   "metadata": {},
   "outputs": [
    {
     "data": {
      "text/plain": [
       "0.85228571428571431"
      ]
     },
     "execution_count": 403,
     "metadata": {},
     "output_type": "execute_result"
    }
   ],
   "source": [
    "# SCORE FOR TRAIN DATA ON SUBREDDIT \n",
    "rfc.score(X_train, y_train)"
   ]
  },
  {
   "cell_type": "code",
   "execution_count": 404,
   "metadata": {
    "scrolled": true
   },
   "outputs": [
    {
     "data": {
      "text/plain": [
       "0.80133333333333334"
      ]
     },
     "execution_count": 404,
     "metadata": {},
     "output_type": "execute_result"
    }
   ],
   "source": [
    "# SCORED FOR TEST DATA ON SUBREDDIT \n",
    "rfc.score(X_test, y_test)"
   ]
  },
  {
   "cell_type": "code",
   "execution_count": 405,
   "metadata": {},
   "outputs": [
    {
     "data": {
      "text/plain": [
       "array([0, 1, 1, ..., 1, 0, 1])"
      ]
     },
     "execution_count": 405,
     "metadata": {},
     "output_type": "execute_result"
    }
   ],
   "source": [
    "predictions = rfc.predict(X_test)  # we need to get our models predictions based on the x_test data\n",
    "predictions"
   ]
  },
  {
   "cell_type": "code",
   "execution_count": 406,
   "metadata": {},
   "outputs": [
    {
     "data": {
      "text/plain": [
       "1500"
      ]
     },
     "execution_count": 406,
     "metadata": {},
     "output_type": "execute_result"
    }
   ],
   "source": [
    "len(predictions)"
   ]
  },
  {
   "cell_type": "code",
   "execution_count": 407,
   "metadata": {},
   "outputs": [
    {
     "name": "stdout",
     "output_type": "stream",
     "text": [
      "\n",
      "Classification Report:\n",
      "              precision    recall  f1-score   support\n",
      "\n",
      "          0       0.84      0.75      0.79       751\n",
      "          1       0.77      0.85      0.81       749\n",
      "\n",
      "avg / total       0.80      0.80      0.80      1500\n",
      "\n"
     ]
    }
   ],
   "source": [
    "print(\"\\nClassification Report:\\n\",classification_report(y_test, predictions))\n",
    "\n",
    "# What is this telling us? \n",
    "# Averaging about 80% accuracy - not bad. "
   ]
  },
  {
   "cell_type": "code",
   "execution_count": 408,
   "metadata": {},
   "outputs": [
    {
     "data": {
      "text/plain": [
       "array([ 0.       ,  1.       ,  1.       , ...,  1.       ,  0.4592739,  1.       ])"
      ]
     },
     "execution_count": 408,
     "metadata": {},
     "output_type": "execute_result"
    }
   ],
   "source": [
    "#Now let's determine our AUC score and visualize our ROC curve\n",
    "\n",
    "rfc_y_score = rfc.predict_proba(X_test)[:, 1] #<-- formats output as one long array\n",
    "rfc_y_score"
   ]
  },
  {
   "cell_type": "code",
   "execution_count": 409,
   "metadata": {
    "scrolled": true
   },
   "outputs": [
    {
     "data": {
      "image/png": "[encoded data removed]",
      "text/plain": [
       "<matplotlib.figure.Figure at 0x1fa255a0780>"
      ]
     },
     "metadata": {},
     "output_type": "display_data"
    }
   ],
   "source": [
    "# Let's visualize the curve\n",
    "\n",
    "rfc_FPR = dict()\n",
    "rfc_TPR = dict()\n",
    "rfc_ROC_AUC = dict()\n",
    "\n",
    "rfc_FPR[1], rfc_TPR[1], _ = roc_curve(y_test, rfc_y_score)\n",
    "rfc_ROC_AUC[1] = auc(rfc_FPR[1], rfc_TPR[1])\n",
    "\n",
    "plt.figure(figsize=[7,5])\n",
    "plt.plot(rfc_FPR[1], rfc_TPR[1], label='ROC curve (area = %0.3f)' % rfc_ROC_AUC[1], linewidth=3)\n",
    "plt.plot([0, 1], [0, 1], 'k--', linewidth=3)\n",
    "plt.xlim([0.0, 1])\n",
    "plt.ylim([0.0, 1])\n",
    "plt.xlabel('False Positive Rate', fontsize=18)\n",
    "plt.ylabel('True Positive Rate', fontsize=18)\n",
    "plt.title('Random Forest Classifier ROC Curve for SUBREDDIT', fontsize=18)\n",
    "plt.legend(loc=\"lower right\")\n",
    "plt.show()"
   ]
  },
  {
   "cell_type": "markdown",
   "metadata": {
    "focus": false,
    "id": "0ef04f32-419c-4bf2-baf7-48201f03df89"
   },
   "source": [
    "#### Create a few new variables in your dataframe to represent interesting features of a thread title.\n",
    "- For example, create a feature that represents whether 'cat' is in the title or whether 'funny' is in the title. \n",
    "- Then build a new Random Forest with these features. Do they add any value?\n",
    "- After creating these variables, use count-vectorizer to create features based on the words in the thread titles.\n",
    "- Build a new random forest model with subreddit and these new features included."
   ]
  },
  {
   "cell_type": "markdown",
   "metadata": {},
   "source": [
    "### Create a feature that represents whether 'cat' is in the title or whether 'funny' is in the title.\n",
    "### Build a new Random Forest with these features. Do they add any value?"
   ]
  },
  {
   "cell_type": "code",
   "execution_count": 410,
   "metadata": {},
   "outputs": [
    {
     "data": {
      "text/plain": [
       "0    the rock stunt doubl is also hi reallif cousin...\n",
       "1    imag found a note from 2 month ago made a few ...\n",
       "2                               the next wayn gretzki \n",
       "3    joel mchale say e told him to lay off the kard...\n",
       "4                                       it’ the truth \n",
       "Name: Title, dtype: object"
      ]
     },
     "execution_count": 410,
     "metadata": {},
     "output_type": "execute_result"
    }
   ],
   "source": [
    "df_scraped.Title.head()"
   ]
  },
  {
   "cell_type": "code",
   "execution_count": 411,
   "metadata": {},
   "outputs": [],
   "source": [
    "def remove_punctuation(text):\n",
    "    lower = text.lower()   #makes all text lowercase\n",
    "    exclude = set(string.punctuation)    #can tell it to exclude punctuation marks. \n",
    "    return \"\".join(ch for ch in lower if ch not in exclude)  #will return the string of text if the character \n",
    "                                                             #for each character in lower and is not in the \n",
    "                                                             #excluded puncuation"
   ]
  },
  {
   "cell_type": "code",
   "execution_count": 412,
   "metadata": {},
   "outputs": [],
   "source": [
    "df_scraped['Title'] = df_scraped['Title'].apply(remove_punctuation)"
   ]
  },
  {
   "cell_type": "code",
   "execution_count": 413,
   "metadata": {},
   "outputs": [
    {
     "data": {
      "text/plain": [
       "0    the rock stunt doubl is also hi reallif cousin...\n",
       "1    imag found a note from 2 month ago made a few ...\n",
       "2                               the next wayn gretzki \n",
       "3    joel mchale say e told him to lay off the kard...\n",
       "4                                       it’ the truth \n",
       "Name: Title, dtype: object"
      ]
     },
     "execution_count": 413,
     "metadata": {},
     "output_type": "execute_result"
    }
   ],
   "source": [
    "df_scraped['Title'].head()"
   ]
  },
  {
   "cell_type": "code",
   "execution_count": 414,
   "metadata": {},
   "outputs": [],
   "source": [
    "#Now let's try using PorterStemmer to reduce each word to it's 'stem'\n",
    "\n",
    "stemmer = PorterStemmer()\n",
    "\n",
    "def stems(string):\n",
    "    string = string.split(' ')\n",
    "    temp = \"\"\n",
    "    for i in string:\n",
    "        temp += (stemmer.stem(i) + \" \")\n",
    "    return temp"
   ]
  },
  {
   "cell_type": "code",
   "execution_count": 415,
   "metadata": {},
   "outputs": [],
   "source": [
    "df_scraped['Title'] = df_scraped['Title'].apply(stems)"
   ]
  },
  {
   "cell_type": "code",
   "execution_count": 416,
   "metadata": {},
   "outputs": [
    {
     "data": {
      "text/plain": [
       "0    the rock stunt doubl is also hi reallif cousin...\n",
       "1    imag found a note from 2 month ago made a few ...\n",
       "2                              the next wayn gretzki  \n",
       "3    joel mchale say e told him to lay off the kard...\n",
       "4                                      it’ the truth  \n",
       "Name: Title, dtype: object"
      ]
     },
     "execution_count": 416,
     "metadata": {},
     "output_type": "execute_result"
    }
   ],
   "source": [
    "df_scraped['Title'].head()"
   ]
  },
  {
   "cell_type": "code",
   "execution_count": 417,
   "metadata": {},
   "outputs": [],
   "source": [
    "## FIND 'CAT' IN TITLES AND CREATE NEW COLUMN \n",
    "word = 'cat'\n",
    "word_list = [] \n",
    "for row in df_scraped.Title:  \n",
    "    if word in row: \n",
    "        word_list.append(1)\n",
    "    else: \n",
    "        word_list.append(0)\n",
    "\n",
    "df_scraped['Cat'] = word_list"
   ]
  },
  {
   "cell_type": "code",
   "execution_count": 418,
   "metadata": {},
   "outputs": [
    {
     "data": {
      "text/plain": [
       "0    4866\n",
       "1     134\n",
       "Name: Cat, dtype: int64"
      ]
     },
     "execution_count": 418,
     "metadata": {},
     "output_type": "execute_result"
    }
   ],
   "source": [
    "df_scraped.Cat.value_counts()"
   ]
  },
  {
   "cell_type": "code",
   "execution_count": 419,
   "metadata": {},
   "outputs": [],
   "source": [
    "# USE CAT AS PREDICTOR \n",
    "X = df_scraped['Cat'].values.reshape(-1,1)\n",
    "\n",
    "X_train, X_test, y_train, y_test = train_test_split(X, y, test_size=0.3, random_state=42)"
   ]
  },
  {
   "cell_type": "code",
   "execution_count": 420,
   "metadata": {
    "scrolled": true
   },
   "outputs": [
    {
     "data": {
      "text/plain": [
       "RandomForestClassifier(bootstrap=True, class_weight=None, criterion='gini',\n",
       "            max_depth=None, max_features='auto', max_leaf_nodes=None,\n",
       "            min_impurity_decrease=0.0, min_impurity_split=None,\n",
       "            min_samples_leaf=1, min_samples_split=2,\n",
       "            min_weight_fraction_leaf=0.0, n_estimators=10, n_jobs=-1,\n",
       "            oob_score=False, random_state=42, verbose=0, warm_start=False)"
      ]
     },
     "execution_count": 420,
     "metadata": {},
     "output_type": "execute_result"
    }
   ],
   "source": [
    "# FIT MODEL FOR CAT PREDICTOR \n",
    "rfc = RandomForestClassifier(n_jobs=-1, random_state=42)\n",
    "rfc.fit(X_train, y_train)"
   ]
  },
  {
   "cell_type": "code",
   "execution_count": 421,
   "metadata": {},
   "outputs": [
    {
     "data": {
      "text/plain": [
       "0.50314285714285711"
      ]
     },
     "execution_count": 421,
     "metadata": {},
     "output_type": "execute_result"
    }
   ],
   "source": [
    "# SCORE FOR TRAIN DATA ON CAT \n",
    "rfc.score(X_train, y_train)"
   ]
  },
  {
   "cell_type": "code",
   "execution_count": 422,
   "metadata": {
    "scrolled": false
   },
   "outputs": [
    {
     "data": {
      "text/plain": [
       "0.51200000000000001"
      ]
     },
     "execution_count": 422,
     "metadata": {},
     "output_type": "execute_result"
    }
   ],
   "source": [
    "# SCORED FOR TEST DATA ON CAT \n",
    "rfc.score(X_test, y_test)"
   ]
  },
  {
   "cell_type": "code",
   "execution_count": 423,
   "metadata": {},
   "outputs": [
    {
     "name": "stdout",
     "output_type": "stream",
     "text": [
      "\n",
      "Classification Report for CAT:\n",
      "              precision    recall  f1-score   support\n",
      "\n",
      "          0       0.84      0.75      0.79       751\n",
      "          1       0.77      0.85      0.81       749\n",
      "\n",
      "avg / total       0.80      0.80      0.80      1500\n",
      "\n"
     ]
    }
   ],
   "source": [
    "print(\"\\nClassification Report for CAT:\\n\",classification_report(y_test, predictions))\n",
    "\n",
    "# What is this telling us? \n",
    "# Using the word \"CAT\" in a title thread has some affect on \"COMMENTS\" "
   ]
  },
  {
   "cell_type": "code",
   "execution_count": 424,
   "metadata": {},
   "outputs": [
    {
     "data": {
      "text/plain": [
       "array([ 0.49398906,  0.49398906,  0.49398906, ...,  0.49398906,\n",
       "        0.49398906,  0.49398906])"
      ]
     },
     "execution_count": 424,
     "metadata": {},
     "output_type": "execute_result"
    }
   ],
   "source": [
    "# Determine our AUC score and visualize our ROC curve\n",
    "\n",
    "rfc_y_score = rfc.predict_proba(X_test)[:, 1] #<-- formats output as one long array\n",
    "rfc_y_score"
   ]
  },
  {
   "cell_type": "code",
   "execution_count": 425,
   "metadata": {},
   "outputs": [
    {
     "name": "stdout",
     "output_type": "stream",
     "text": [
      "0.511366242429\n"
     ]
    }
   ],
   "source": [
    "print(roc_auc_score(y_test, rfc_y_score))  # TRUE-POSITIVES ONLY?\n"
   ]
  },
  {
   "cell_type": "code",
   "execution_count": 426,
   "metadata": {},
   "outputs": [
    {
     "data": {
      "image/png": "[encoded data removed]",
      "text/plain": [
       "<matplotlib.figure.Figure at 0x1fa24e64668>"
      ]
     },
     "metadata": {},
     "output_type": "display_data"
    }
   ],
   "source": [
    "# Let's visualize the curve\n",
    "\n",
    "rfc_FPR = dict()\n",
    "rfc_TPR = dict()\n",
    "rfc_ROC_AUC = dict()\n",
    "\n",
    "rfc_FPR[1], rfc_TPR[1], _ = roc_curve(y_test, rfc_y_score)\n",
    "rfc_ROC_AUC[1] = auc(rfc_FPR[1], rfc_TPR[1])\n",
    "\n",
    "plt.figure(figsize=[7,5])\n",
    "plt.plot(rfc_FPR[1], rfc_TPR[1], label='ROC curve (area = %0.3f)' % rfc_ROC_AUC[1], linewidth=3)\n",
    "plt.plot([0, 1], [0, 1], 'k--', linewidth=3)\n",
    "plt.xlim([0.0, 1])\n",
    "plt.ylim([0.0, 1])\n",
    "plt.xlabel('False Positive Rate', fontsize=18)\n",
    "plt.ylabel('True Positive Rate', fontsize=18)\n",
    "plt.title('Random Forest Classifier ROC Curve for CAT', fontsize=18)\n",
    "plt.legend(loc=\"lower right\")\n",
    "plt.show()"
   ]
  },
  {
   "cell_type": "code",
   "execution_count": 427,
   "metadata": {},
   "outputs": [],
   "source": [
    "## FIND 'FUNNY' IN TITLES AND CREATE NEW COLUMN \n",
    "word = 'funny'\n",
    "word_list = [] \n",
    "for row in df_scraped.Title:  \n",
    "    if word in row: \n",
    "        word_list.append(1)\n",
    "    else: \n",
    "        word_list.append(0)\n",
    "\n",
    "df_scraped['Funny'] = word_list"
   ]
  },
  {
   "cell_type": "code",
   "execution_count": 428,
   "metadata": {},
   "outputs": [
    {
     "data": {
      "text/plain": [
       "0    5000\n",
       "Name: Funny, dtype: int64"
      ]
     },
     "execution_count": 428,
     "metadata": {},
     "output_type": "execute_result"
    }
   ],
   "source": [
    "df_scraped.Funny.value_counts()"
   ]
  },
  {
   "cell_type": "code",
   "execution_count": 429,
   "metadata": {},
   "outputs": [
    {
     "name": "stderr",
     "output_type": "stream",
     "text": [
      "C:\\Users\\CHIWLONG\\Anaconda3\\lib\\site-packages\\ipykernel_launcher.py:2: FutureWarning: reshape is deprecated and will raise in a subsequent release. Please use .values.reshape(...) instead\n",
      "  \n"
     ]
    }
   ],
   "source": [
    "# USE FUNNY AS PREDICTOR \n",
    "X = df_scraped['Funny'].reshape(-1,1)\n",
    "\n",
    "X_train, X_test, y_train, y_test = train_test_split(X, y, test_size=0.3, random_state=42)"
   ]
  },
  {
   "cell_type": "code",
   "execution_count": 430,
   "metadata": {
    "scrolled": true
   },
   "outputs": [
    {
     "data": {
      "text/plain": [
       "RandomForestClassifier(bootstrap=True, class_weight=None, criterion='gini',\n",
       "            max_depth=None, max_features='auto', max_leaf_nodes=None,\n",
       "            min_impurity_decrease=0.0, min_impurity_split=None,\n",
       "            min_samples_leaf=1, min_samples_split=2,\n",
       "            min_weight_fraction_leaf=0.0, n_estimators=10, n_jobs=-1,\n",
       "            oob_score=False, random_state=42, verbose=0, warm_start=False)"
      ]
     },
     "execution_count": 430,
     "metadata": {},
     "output_type": "execute_result"
    }
   ],
   "source": [
    "# FIT MODEL FOR FUNNY PREDICTOR \n",
    "rfc = RandomForestClassifier(n_jobs=-1, random_state=42)\n",
    "rfc.fit(X_train, y_train)"
   ]
  },
  {
   "cell_type": "code",
   "execution_count": 431,
   "metadata": {},
   "outputs": [
    {
     "data": {
      "text/plain": [
       "0.50057142857142856"
      ]
     },
     "execution_count": 431,
     "metadata": {},
     "output_type": "execute_result"
    }
   ],
   "source": [
    "# SCORE FOR TRAIN DATA ON FUNNY \n",
    "rfc.score(X_train, y_train)"
   ]
  },
  {
   "cell_type": "code",
   "execution_count": 432,
   "metadata": {
    "scrolled": false
   },
   "outputs": [
    {
     "data": {
      "text/plain": [
       "0.5006666666666667"
      ]
     },
     "execution_count": 432,
     "metadata": {},
     "output_type": "execute_result"
    }
   ],
   "source": [
    "# SCORED FOR TEST DATA ON FUNNY \n",
    "rfc.score(X_test, y_test)"
   ]
  },
  {
   "cell_type": "code",
   "execution_count": 433,
   "metadata": {},
   "outputs": [
    {
     "data": {
      "text/plain": [
       "array([0, 0, 0, ..., 0, 0, 0])"
      ]
     },
     "execution_count": 433,
     "metadata": {},
     "output_type": "execute_result"
    }
   ],
   "source": [
    "predictions = rfc.predict(X_test)  # Get our models predictions based on the X_test data\n",
    "predictions"
   ]
  },
  {
   "cell_type": "code",
   "execution_count": 434,
   "metadata": {},
   "outputs": [
    {
     "data": {
      "text/plain": [
       "1500"
      ]
     },
     "execution_count": 434,
     "metadata": {},
     "output_type": "execute_result"
    }
   ],
   "source": [
    "len(predictions)"
   ]
  },
  {
   "cell_type": "code",
   "execution_count": 435,
   "metadata": {},
   "outputs": [
    {
     "name": "stdout",
     "output_type": "stream",
     "text": [
      "\n",
      "Classification Report:\n",
      "              precision    recall  f1-score   support\n",
      "\n",
      "          0       0.50      1.00      0.67       751\n",
      "          1       0.00      0.00      0.00       749\n",
      "\n",
      "avg / total       0.25      0.50      0.33      1500\n",
      "\n"
     ]
    },
    {
     "name": "stderr",
     "output_type": "stream",
     "text": [
      "C:\\Users\\CHIWLONG\\Anaconda3\\lib\\site-packages\\sklearn\\metrics\\classification.py:1135: UndefinedMetricWarning: Precision and F-score are ill-defined and being set to 0.0 in labels with no predicted samples.\n",
      "  'precision', 'predicted', average, warn_for)\n"
     ]
    }
   ],
   "source": [
    "print(\"\\nClassification Report:\\n\",classification_report(y_test, predictions))\n",
    "\n",
    "# What is this telling us? \n",
    "# Hmm, FUNNY in Title not so good a predictor. "
   ]
  },
  {
   "cell_type": "code",
   "execution_count": 436,
   "metadata": {},
   "outputs": [
    {
     "data": {
      "text/plain": [
       "array([ 0.4946,  0.4946,  0.4946, ...,  0.4946,  0.4946,  0.4946])"
      ]
     },
     "execution_count": 436,
     "metadata": {},
     "output_type": "execute_result"
    }
   ],
   "source": [
    "# Determine our AUC score and visualize our ROC curve\n",
    "\n",
    "rfc_y_score = rfc.predict_proba(X_test)[:, 1] #<-- formats output as one long array\n",
    "rfc_y_score"
   ]
  },
  {
   "cell_type": "code",
   "execution_count": 437,
   "metadata": {},
   "outputs": [
    {
     "name": "stdout",
     "output_type": "stream",
     "text": [
      "0.5\n"
     ]
    }
   ],
   "source": [
    "print(roc_auc_score(y_test, rfc_y_score))  # TRUE-POSITIVES ONLY"
   ]
  },
  {
   "cell_type": "code",
   "execution_count": 438,
   "metadata": {},
   "outputs": [
    {
     "data": {
      "image/png": "[encoded data removed]",
      "text/plain": [
       "<matplotlib.figure.Figure at 0x1fa24fdae10>"
      ]
     },
     "metadata": {},
     "output_type": "display_data"
    }
   ],
   "source": [
    "# Let's visualize the curve\n",
    "\n",
    "rfc_FPR = dict()\n",
    "rfc_TPR = dict()\n",
    "rfc_ROC_AUC = dict()\n",
    "\n",
    "rfc_FPR[1], rfc_TPR[1], _ = roc_curve(y_test, rfc_y_score)\n",
    "rfc_ROC_AUC[1] = auc(rfc_FPR[1], rfc_TPR[1])\n",
    "\n",
    "plt.figure(figsize=[7,5])\n",
    "plt.plot(rfc_FPR[1], rfc_TPR[1], label='ROC curve (area = %0.3f)' % rfc_ROC_AUC[1], linewidth=3)\n",
    "plt.plot([0, 1], [0, 1], 'k--', linewidth=3)\n",
    "plt.xlim([0.0, 1])\n",
    "plt.ylim([0.0, 1])\n",
    "plt.xlabel('False Positive Rate', fontsize=18)\n",
    "plt.ylabel('True Positive Rate', fontsize=18)\n",
    "plt.title('Random Forest Classifier ROC Curve for FUNNY', fontsize=18)\n",
    "plt.legend(loc=\"lower right\")\n",
    "plt.show()"
   ]
  },
  {
   "cell_type": "code",
   "execution_count": 439,
   "metadata": {
    "scrolled": true
   },
   "outputs": [],
   "source": [
    "# #determine most important features/words in our model\n",
    "# rfc_feature_importances = pd.DataFrame(rfc.feature_importances_,\n",
    "#                                    index = X.columns,\n",
    "#                                     columns=['importance']).sort_values('importance',\n",
    "#                                     ascending=False)\n",
    "# print(rfc_feature_importances.head(10))\n",
    "# rfc_feature_importances.head(10).sum()\n"
   ]
  },
  {
   "cell_type": "code",
   "execution_count": 440,
   "metadata": {
    "scrolled": true
   },
   "outputs": [],
   "source": [
    "# COMBINE FEATURES AND BUILD NEW MODEL \n",
    "X = df_scraped['Subreddit'] \n",
    "\n",
    "# need to transform subreddit text to binary and join cat and funny to df X\n",
    "X = pd.DataFrame(cvec.fit_transform(X).todense(),\n",
    "            columns=cvec.get_feature_names()).join(df_scraped[['Cat', 'Funny']])\n",
    "\n",
    "X_train, X_test, y_train, y_test = train_test_split(X, y, test_size=0.3, random_state=42)"
   ]
  },
  {
   "cell_type": "code",
   "execution_count": 441,
   "metadata": {},
   "outputs": [
    {
     "data": {
      "text/plain": [
       "RandomForestClassifier(bootstrap=True, class_weight=None, criterion='gini',\n",
       "            max_depth=None, max_features='auto', max_leaf_nodes=None,\n",
       "            min_impurity_decrease=0.0, min_impurity_split=None,\n",
       "            min_samples_leaf=1, min_samples_split=2,\n",
       "            min_weight_fraction_leaf=0.0, n_estimators=10, n_jobs=-1,\n",
       "            oob_score=False, random_state=42, verbose=0, warm_start=False)"
      ]
     },
     "execution_count": 441,
     "metadata": {},
     "output_type": "execute_result"
    }
   ],
   "source": [
    "# FIT MODEL FOR MULTIPLE PREDICTORS \n",
    "rfc = RandomForestClassifier(n_jobs=-1, random_state=42)\n",
    "rfc.fit(X_train, y_train)"
   ]
  },
  {
   "cell_type": "code",
   "execution_count": 442,
   "metadata": {},
   "outputs": [
    {
     "data": {
      "text/plain": [
       "0.85771428571428576"
      ]
     },
     "execution_count": 442,
     "metadata": {},
     "output_type": "execute_result"
    }
   ],
   "source": [
    "# SCORE FOR TRAIN DATA ON MULTIPLE PREDICTORS \n",
    "rfc.score(X_train, y_train)"
   ]
  },
  {
   "cell_type": "code",
   "execution_count": 443,
   "metadata": {},
   "outputs": [
    {
     "data": {
      "text/plain": [
       "0.80733333333333335"
      ]
     },
     "execution_count": 443,
     "metadata": {},
     "output_type": "execute_result"
    }
   ],
   "source": [
    "# SCORE FOR TEST DATA ON MULTIPLE PREDICTORS\n",
    "rfc.score(X_test, y_test)"
   ]
  },
  {
   "cell_type": "code",
   "execution_count": 444,
   "metadata": {},
   "outputs": [
    {
     "data": {
      "text/plain": [
       "array([0, 1, 1, ..., 1, 0, 1])"
      ]
     },
     "execution_count": 444,
     "metadata": {},
     "output_type": "execute_result"
    }
   ],
   "source": [
    "predictions = rfc.predict(X_test)  # Get our models predictions based on the X_test data\n",
    "predictions"
   ]
  },
  {
   "cell_type": "code",
   "execution_count": 445,
   "metadata": {},
   "outputs": [
    {
     "data": {
      "text/plain": [
       "1500"
      ]
     },
     "execution_count": 445,
     "metadata": {},
     "output_type": "execute_result"
    }
   ],
   "source": [
    "len(predictions)"
   ]
  },
  {
   "cell_type": "code",
   "execution_count": 446,
   "metadata": {},
   "outputs": [
    {
     "name": "stdout",
     "output_type": "stream",
     "text": [
      "\n",
      "Classification Report:\n",
      "              precision    recall  f1-score   support\n",
      "\n",
      "          0       0.82      0.79      0.80       751\n",
      "          1       0.80      0.82      0.81       749\n",
      "\n",
      "avg / total       0.81      0.81      0.81      1500\n",
      "\n"
     ]
    }
   ],
   "source": [
    "print(\"\\nClassification Report:\\n\",classification_report(y_test, predictions))\n",
    "\n",
    "# What is this telling us? \n",
    "# Looks fairly accurate, but not great. "
   ]
  },
  {
   "cell_type": "code",
   "execution_count": 447,
   "metadata": {},
   "outputs": [
    {
     "data": {
      "text/plain": [
       "array([ 0.       ,  1.       ,  1.       , ...,  1.       ,  0.4592739,  1.       ])"
      ]
     },
     "execution_count": 447,
     "metadata": {},
     "output_type": "execute_result"
    }
   ],
   "source": [
    "# Determine our AUC score and visualize our ROC curve\n",
    "\n",
    "rfc_y_score = rfc.predict_proba(X_test)[:, 1] #<-- formats output as one long array\n",
    "rfc_y_score"
   ]
  },
  {
   "cell_type": "code",
   "execution_count": 448,
   "metadata": {
    "scrolled": true
   },
   "outputs": [
    {
     "name": "stdout",
     "output_type": "stream",
     "text": [
      "0.895794481412\n"
     ]
    }
   ],
   "source": [
    "print(roc_auc_score(y_test, rfc_y_score))  # TRUE-POSITIVES ONLY\n"
   ]
  },
  {
   "cell_type": "code",
   "execution_count": 449,
   "metadata": {},
   "outputs": [
    {
     "data": {
      "image/png": "[encoded data removed]",
      "text/plain": [
       "<matplotlib.figure.Figure at 0x1fa2714ab70>"
      ]
     },
     "metadata": {},
     "output_type": "display_data"
    }
   ],
   "source": [
    "# Let's visualize the curve\n",
    "\n",
    "rfc_FPR = dict()\n",
    "rfc_TPR = dict()\n",
    "rfc_ROC_AUC = dict()\n",
    "\n",
    "rfc_FPR[1], rfc_TPR[1], _ = roc_curve(y_test, rfc_y_score)\n",
    "rfc_ROC_AUC[1] = auc(rfc_FPR[1], rfc_TPR[1])\n",
    "\n",
    "plt.figure(figsize=[7,5])\n",
    "plt.plot(rfc_FPR[1], rfc_TPR[1], label='ROC curve (area = %0.3f)' % rfc_ROC_AUC[1], linewidth=3)\n",
    "plt.plot([0, 1], [0, 1], 'k--', linewidth=3)\n",
    "plt.xlim([0.0, 1])\n",
    "plt.ylim([0.0, 1])\n",
    "plt.xlabel('False Positive Rate', fontsize=18)\n",
    "plt.ylabel('True Positive Rate', fontsize=18)\n",
    "plt.title('Random Forest Classifier ROC Curve for SUBREDDIT, CAT and FUNNY', fontsize=18)\n",
    "plt.legend(loc=\"lower right\")\n",
    "plt.show()"
   ]
  },
  {
   "cell_type": "markdown",
   "metadata": {
    "focus": false,
    "id": "9367beff-72ba-4768-a0ba-a50b335de61d"
   },
   "source": [
    "#### Use cross-validation in scikit-learn to evaluate the model above. \n",
    "- Evaluate the accuracy of the model, as well as any other metrics you feel are appropriate. "
   ]
  },
  {
   "cell_type": "code",
   "execution_count": 450,
   "metadata": {
    "focus": false,
    "id": "269b9e7c-60b5-4a06-8255-881d7395bc1b"
   },
   "outputs": [],
   "source": [
    "## YOUR CODE HERE\n",
    "from sklearn import datasets\n",
    "from sklearn import svm"
   ]
  },
  {
   "cell_type": "code",
   "execution_count": 451,
   "metadata": {
    "scrolled": true
   },
   "outputs": [
    {
     "data": {
      "text/plain": [
       "0.85399999999999998"
      ]
     },
     "execution_count": 451,
     "metadata": {},
     "output_type": "execute_result"
    }
   ],
   "source": [
    "## YOUR CODE HERE\n",
    "clf = svm.SVC(kernel='linear', C=1).fit(X_train, y_train)\n",
    "clf.score(X_train, y_train)  "
   ]
  },
  {
   "cell_type": "code",
   "execution_count": 452,
   "metadata": {},
   "outputs": [
    {
     "data": {
      "text/plain": [
       "array([ 0.78737542,  0.79666667,  0.81666667,  0.77666667,  0.84615385])"
      ]
     },
     "execution_count": 452,
     "metadata": {},
     "output_type": "execute_result"
    }
   ],
   "source": [
    "from sklearn.model_selection import cross_val_score\n",
    "clf = svm.SVC(kernel='linear', C=1)\n",
    "scores = cross_val_score(clf, X_test, y_test, cv=5)\n",
    "scores "
   ]
  },
  {
   "cell_type": "markdown",
   "metadata": {},
   "source": [
    "#### Repeat the model-building process with a non-tree-based method."
   ]
  },
  {
   "cell_type": "code",
   "execution_count": 453,
   "metadata": {},
   "outputs": [],
   "source": [
    "# TRY LOGISTIC REGRESSION \n",
    "from sklearn.linear_model import LogisticRegression, LogisticRegressionCV"
   ]
  },
  {
   "cell_type": "code",
   "execution_count": 454,
   "metadata": {},
   "outputs": [],
   "source": [
    "lr = LogisticRegression(random_state=42, solver='liblinear')"
   ]
  },
  {
   "cell_type": "code",
   "execution_count": 455,
   "metadata": {},
   "outputs": [
    {
     "data": {
      "text/plain": [
       "(5000, 438)"
      ]
     },
     "execution_count": 455,
     "metadata": {},
     "output_type": "execute_result"
    }
   ],
   "source": [
    "X.shape"
   ]
  },
  {
   "cell_type": "code",
   "execution_count": 456,
   "metadata": {},
   "outputs": [
    {
     "data": {
      "text/plain": [
       "LogisticRegression(C=1.0, class_weight=None, dual=False, fit_intercept=True,\n",
       "          intercept_scaling=1, max_iter=100, multi_class='ovr', n_jobs=1,\n",
       "          penalty='l2', random_state=42, solver='liblinear', tol=0.0001,\n",
       "          verbose=0, warm_start=False)"
      ]
     },
     "execution_count": 456,
     "metadata": {},
     "output_type": "execute_result"
    }
   ],
   "source": [
    "lr.fit(X_train, y_train)"
   ]
  },
  {
   "cell_type": "code",
   "execution_count": 457,
   "metadata": {},
   "outputs": [
    {
     "name": "stdout",
     "output_type": "stream",
     "text": [
      "mean: -0.00592780826892\n",
      "median: -0.371922553474\n"
     ]
    }
   ],
   "source": [
    "print('mean: ' + str(np.mean(lr.coef_)))\n",
    "print('median: ' + str(np.median(lr.coef_))) # <== beta coefficient for X values "
   ]
  },
  {
   "cell_type": "code",
   "execution_count": 458,
   "metadata": {},
   "outputs": [],
   "source": [
    "# Both coefficients are very low (near zero). This means that Title has little predictive power for Comments. "
   ]
  },
  {
   "cell_type": "markdown",
   "metadata": {
    "focus": false,
    "id": "db045898-1d2d-4af2-8e79-437c4c7546b4"
   },
   "source": [
    "#### Use Count Vectorizer from scikit-learn to create features from the thread titles. \n",
    "- Examine using count or binary features in the model\n",
    "- Re-evaluate your models using these. Does this improve the model performance? \n",
    "- What text features are the most valuable? "
   ]
  },
  {
   "cell_type": "code",
   "execution_count": 514,
   "metadata": {},
   "outputs": [],
   "source": [
    "#we want to first define our x and y variables and instantiate a CountVectorizer\n",
    "X = df_scraped['Title']\n",
    "y = df_scraped['High']"
   ]
  },
  {
   "cell_type": "code",
   "execution_count": 515,
   "metadata": {},
   "outputs": [],
   "source": [
    "cvec = CountVectorizer(stop_words = 'english')  #let's exclude stopwords, then fit and transform our x data"
   ]
  },
  {
   "cell_type": "code",
   "execution_count": 516,
   "metadata": {},
   "outputs": [],
   "source": [
    "X  = pd.DataFrame(cvec.fit_transform(X).todense(),\n",
    "             columns=cvec.get_feature_names())"
   ]
  },
  {
   "cell_type": "code",
   "execution_count": 517,
   "metadata": {},
   "outputs": [
    {
     "data": {
      "text/html": [
       "<div>\n",
       "<style>\n",
       "    .dataframe thead tr:only-child th {\n",
       "        text-align: right;\n",
       "    }\n",
       "\n",
       "    .dataframe thead th {\n",
       "        text-align: left;\n",
       "    }\n",
       "\n",
       "    .dataframe tbody tr th {\n",
       "        vertical-align: top;\n",
       "    }\n",
       "</style>\n",
       "<table border=\"1\" class=\"dataframe\">\n",
       "  <thead>\n",
       "    <tr style=\"text-align: right;\">\n",
       "      <th></th>\n",
       "      <th>10</th>\n",
       "      <th>100</th>\n",
       "      <th>1040x1485</th>\n",
       "      <th>105</th>\n",
       "      <th>10cm</th>\n",
       "      <th>110</th>\n",
       "      <th>1126</th>\n",
       "      <th>1198</th>\n",
       "      <th>125000year</th>\n",
       "      <th>1280</th>\n",
       "      <th>...</th>\n",
       "      <th>yup</th>\n",
       "      <th>yuzuru</th>\n",
       "      <th>zeppelin</th>\n",
       "      <th>zhe</th>\n",
       "      <th>zhong</th>\n",
       "      <th>zone</th>\n",
       "      <th>zoop</th>\n",
       "      <th>ｃｈｏｏｓｅ</th>\n",
       "      <th>ｆｌａｖｏｕｒ</th>\n",
       "      <th>ｙｏｕｒ</th>\n",
       "    </tr>\n",
       "  </thead>\n",
       "  <tbody>\n",
       "    <tr>\n",
       "      <th>0</th>\n",
       "      <td>0</td>\n",
       "      <td>0</td>\n",
       "      <td>0</td>\n",
       "      <td>0</td>\n",
       "      <td>0</td>\n",
       "      <td>0</td>\n",
       "      <td>0</td>\n",
       "      <td>0</td>\n",
       "      <td>0</td>\n",
       "      <td>0</td>\n",
       "      <td>...</td>\n",
       "      <td>0</td>\n",
       "      <td>0</td>\n",
       "      <td>0</td>\n",
       "      <td>0</td>\n",
       "      <td>0</td>\n",
       "      <td>0</td>\n",
       "      <td>0</td>\n",
       "      <td>0</td>\n",
       "      <td>0</td>\n",
       "      <td>0</td>\n",
       "    </tr>\n",
       "    <tr>\n",
       "      <th>1</th>\n",
       "      <td>0</td>\n",
       "      <td>0</td>\n",
       "      <td>0</td>\n",
       "      <td>0</td>\n",
       "      <td>0</td>\n",
       "      <td>0</td>\n",
       "      <td>0</td>\n",
       "      <td>0</td>\n",
       "      <td>0</td>\n",
       "      <td>0</td>\n",
       "      <td>...</td>\n",
       "      <td>0</td>\n",
       "      <td>0</td>\n",
       "      <td>0</td>\n",
       "      <td>0</td>\n",
       "      <td>0</td>\n",
       "      <td>0</td>\n",
       "      <td>0</td>\n",
       "      <td>0</td>\n",
       "      <td>0</td>\n",
       "      <td>0</td>\n",
       "    </tr>\n",
       "    <tr>\n",
       "      <th>2</th>\n",
       "      <td>0</td>\n",
       "      <td>0</td>\n",
       "      <td>0</td>\n",
       "      <td>0</td>\n",
       "      <td>0</td>\n",
       "      <td>0</td>\n",
       "      <td>0</td>\n",
       "      <td>0</td>\n",
       "      <td>0</td>\n",
       "      <td>0</td>\n",
       "      <td>...</td>\n",
       "      <td>0</td>\n",
       "      <td>0</td>\n",
       "      <td>0</td>\n",
       "      <td>0</td>\n",
       "      <td>0</td>\n",
       "      <td>0</td>\n",
       "      <td>0</td>\n",
       "      <td>0</td>\n",
       "      <td>0</td>\n",
       "      <td>0</td>\n",
       "    </tr>\n",
       "    <tr>\n",
       "      <th>3</th>\n",
       "      <td>0</td>\n",
       "      <td>0</td>\n",
       "      <td>0</td>\n",
       "      <td>0</td>\n",
       "      <td>0</td>\n",
       "      <td>0</td>\n",
       "      <td>0</td>\n",
       "      <td>0</td>\n",
       "      <td>0</td>\n",
       "      <td>0</td>\n",
       "      <td>...</td>\n",
       "      <td>0</td>\n",
       "      <td>0</td>\n",
       "      <td>0</td>\n",
       "      <td>0</td>\n",
       "      <td>0</td>\n",
       "      <td>0</td>\n",
       "      <td>0</td>\n",
       "      <td>0</td>\n",
       "      <td>0</td>\n",
       "      <td>0</td>\n",
       "    </tr>\n",
       "    <tr>\n",
       "      <th>4</th>\n",
       "      <td>0</td>\n",
       "      <td>0</td>\n",
       "      <td>0</td>\n",
       "      <td>0</td>\n",
       "      <td>0</td>\n",
       "      <td>0</td>\n",
       "      <td>0</td>\n",
       "      <td>0</td>\n",
       "      <td>0</td>\n",
       "      <td>0</td>\n",
       "      <td>...</td>\n",
       "      <td>0</td>\n",
       "      <td>0</td>\n",
       "      <td>0</td>\n",
       "      <td>0</td>\n",
       "      <td>0</td>\n",
       "      <td>0</td>\n",
       "      <td>0</td>\n",
       "      <td>0</td>\n",
       "      <td>0</td>\n",
       "      <td>0</td>\n",
       "    </tr>\n",
       "  </tbody>\n",
       "</table>\n",
       "<p>5 rows × 2646 columns</p>\n",
       "</div>"
      ],
      "text/plain": [
       "   10  100  1040x1485  105  10cm  110  1126  1198  125000year  1280  ...   \\\n",
       "0   0    0          0    0     0    0     0     0           0     0  ...    \n",
       "1   0    0          0    0     0    0     0     0           0     0  ...    \n",
       "2   0    0          0    0     0    0     0     0           0     0  ...    \n",
       "3   0    0          0    0     0    0     0     0           0     0  ...    \n",
       "4   0    0          0    0     0    0     0     0           0     0  ...    \n",
       "\n",
       "   yup  yuzuru  zeppelin  zhe  zhong  zone  zoop  ｃｈｏｏｓｅ  ｆｌａｖｏｕｒ  ｙｏｕｒ  \n",
       "0    0       0         0    0      0     0     0       0        0     0  \n",
       "1    0       0         0    0      0     0     0       0        0     0  \n",
       "2    0       0         0    0      0     0     0       0        0     0  \n",
       "3    0       0         0    0      0     0     0       0        0     0  \n",
       "4    0       0         0    0      0     0     0       0        0     0  \n",
       "\n",
       "[5 rows x 2646 columns]"
      ]
     },
     "execution_count": 517,
     "metadata": {},
     "output_type": "execute_result"
    }
   ],
   "source": [
    "X.head()"
   ]
  },
  {
   "cell_type": "code",
   "execution_count": 518,
   "metadata": {},
   "outputs": [
    {
     "data": {
      "text/plain": [
       "(5000, 2646)"
      ]
     },
     "execution_count": 518,
     "metadata": {},
     "output_type": "execute_result"
    }
   ],
   "source": [
    "X.shape"
   ]
  },
  {
   "cell_type": "code",
   "execution_count": 519,
   "metadata": {},
   "outputs": [],
   "source": [
    "# split our data into our training and test sets! \n",
    "\n",
    "X_train, X_test, y_train, y_test = train_test_split(X, y, test_size=0.3)"
   ]
  },
  {
   "cell_type": "code",
   "execution_count": 520,
   "metadata": {},
   "outputs": [],
   "source": [
    "# use a random forest classifier\n",
    "\n",
    "rfc = RandomForestClassifier()"
   ]
  },
  {
   "cell_type": "code",
   "execution_count": 521,
   "metadata": {},
   "outputs": [
    {
     "data": {
      "text/plain": [
       "RandomForestClassifier(bootstrap=True, class_weight=None, criterion='gini',\n",
       "            max_depth=None, max_features='auto', max_leaf_nodes=None,\n",
       "            min_impurity_decrease=0.0, min_impurity_split=None,\n",
       "            min_samples_leaf=1, min_samples_split=2,\n",
       "            min_weight_fraction_leaf=0.0, n_estimators=10, n_jobs=1,\n",
       "            oob_score=False, random_state=None, verbose=0,\n",
       "            warm_start=False)"
      ]
     },
     "execution_count": 521,
     "metadata": {},
     "output_type": "execute_result"
    }
   ],
   "source": [
    "# fit our model\n",
    "\n",
    "rfc.fit(X_train, y_train)"
   ]
  },
  {
   "cell_type": "code",
   "execution_count": 522,
   "metadata": {
    "scrolled": true
   },
   "outputs": [
    {
     "data": {
      "text/plain": [
       "0.99257142857142855"
      ]
     },
     "execution_count": 522,
     "metadata": {},
     "output_type": "execute_result"
    }
   ],
   "source": [
    "# score our model on the training and test sets \n",
    "\n",
    "rfc.score(X_train, y_train)"
   ]
  },
  {
   "cell_type": "code",
   "execution_count": 523,
   "metadata": {},
   "outputs": [
    {
     "data": {
      "text/plain": [
       "0.97999999999999998"
      ]
     },
     "execution_count": 523,
     "metadata": {},
     "output_type": "execute_result"
    }
   ],
   "source": [
    "rfc.score(X_test, y_test)   # What does this output/score mean? Is this good? 97% - not too shabby. "
   ]
  },
  {
   "cell_type": "code",
   "execution_count": 524,
   "metadata": {},
   "outputs": [
    {
     "data": {
      "text/plain": [
       "0.0"
      ]
     },
     "execution_count": 524,
     "metadata": {},
     "output_type": "execute_result"
    }
   ],
   "source": [
    "# What was our base model score?\n",
    "base_score = np.median(y_test)\n",
    "base_score"
   ]
  },
  {
   "cell_type": "code",
   "execution_count": 525,
   "metadata": {},
   "outputs": [
    {
     "data": {
      "text/plain": [
       "array([0, 0, 1, ..., 0, 0, 0])"
      ]
     },
     "execution_count": 525,
     "metadata": {},
     "output_type": "execute_result"
    }
   ],
   "source": [
    "predictions = rfc.predict(X_test)  # we need to get our models predictions based on the x_test data\n",
    "predictions"
   ]
  },
  {
   "cell_type": "code",
   "execution_count": 526,
   "metadata": {},
   "outputs": [
    {
     "data": {
      "text/plain": [
       "1500"
      ]
     },
     "execution_count": 526,
     "metadata": {},
     "output_type": "execute_result"
    }
   ],
   "source": [
    "len(predictions)"
   ]
  },
  {
   "cell_type": "code",
   "execution_count": 527,
   "metadata": {
    "scrolled": true
   },
   "outputs": [],
   "source": [
    "conmat = pd.DataFrame(confusion_matrix(y_test, predictions), \n",
    "                      columns=['predicted_low(0)', 'predicted_high(1)'], \n",
    "                      index=['is_low(0)', 'is_high(1)'])"
   ]
  },
  {
   "cell_type": "code",
   "execution_count": 528,
   "metadata": {},
   "outputs": [
    {
     "name": "stdout",
     "output_type": "stream",
     "text": [
      "\n",
      "Classification Report:\n",
      "              precision    recall  f1-score   support\n",
      "\n",
      "          0       0.99      0.97      0.98       786\n",
      "          1       0.97      0.99      0.98       714\n",
      "\n",
      "avg / total       0.98      0.98      0.98      1500\n",
      "\n"
     ]
    }
   ],
   "source": [
    "print(\"\\nClassification Report:\\n\",classification_report(y_test, predictions))\n",
    "\n",
    "# What is this telling us? \n",
    "# Looks pretty accurate. "
   ]
  },
  {
   "cell_type": "code",
   "execution_count": 529,
   "metadata": {},
   "outputs": [
    {
     "data": {
      "text/plain": [
       "array([ 0.,  0.,  1., ...,  0.,  0.,  0.])"
      ]
     },
     "execution_count": 529,
     "metadata": {},
     "output_type": "execute_result"
    }
   ],
   "source": [
    "# Determine AUC score and visualize ROC curve\n",
    "\n",
    "rfc_y_score = rfc.predict_proba(X_test)[:, 1] #<-- formats output as one long array\n",
    "rfc_y_score"
   ]
  },
  {
   "cell_type": "code",
   "execution_count": 530,
   "metadata": {},
   "outputs": [
    {
     "name": "stdout",
     "output_type": "stream",
     "text": [
      "0.996420196577\n"
     ]
    }
   ],
   "source": [
    "print(roc_auc_score(y_test, rfc_y_score))  # TRUE-POSITIVES ONLY\n"
   ]
  },
  {
   "cell_type": "code",
   "execution_count": 531,
   "metadata": {},
   "outputs": [
    {
     "data": {
      "image/png": "[encoded data removed]",
      "text/plain": [
       "<matplotlib.figure.Figure at 0x1fa250fd160>"
      ]
     },
     "metadata": {},
     "output_type": "display_data"
    }
   ],
   "source": [
    "# Visualize the curve\n",
    "\n",
    "rfc_FPR = dict()\n",
    "rfc_TPR = dict()\n",
    "rfc_ROC_AUC = dict()\n",
    "\n",
    "rfc_FPR[1], rfc_TPR[1], _ = roc_curve(y_test, rfc_y_score)\n",
    "rfc_ROC_AUC[1] = auc(rfc_FPR[1], rfc_TPR[1])\n",
    "\n",
    "plt.figure(figsize=[7,5])\n",
    "plt.plot(rfc_FPR[1], rfc_TPR[1], label='ROC curve (area = %0.3f)' % rfc_ROC_AUC[1], linewidth=3)\n",
    "plt.plot([0, 1], [0, 1], 'k--', linewidth=3)\n",
    "plt.xlim([0.0, 1])\n",
    "plt.ylim([0.0, 1])\n",
    "plt.xlabel('False Positive Rate', fontsize=18)\n",
    "plt.ylabel('True Positive Rate', fontsize=18)\n",
    "plt.title('Random Forest Classifier ROC Curve after COUNT VECTORIZATION', fontsize=18)\n",
    "plt.legend(loc=\"lower right\")\n",
    "plt.show()"
   ]
  },
  {
   "cell_type": "code",
   "execution_count": 532,
   "metadata": {
    "scrolled": true
   },
   "outputs": [
    {
     "name": "stdout",
     "output_type": "stream",
     "text": [
      "              importance\n",
      "day             0.008890\n",
      "2meirl4meirl    0.006123\n",
      "truth           0.006009\n",
      "happen          0.005905\n",
      "reason          0.005806\n",
      "door            0.005533\n",
      "boo             0.005499\n",
      "help            0.005470\n",
      "noth            0.005394\n",
      "school          0.005306\n"
     ]
    },
    {
     "data": {
      "text/plain": [
       "importance    0.059935\n",
       "dtype: float64"
      ]
     },
     "execution_count": 532,
     "metadata": {},
     "output_type": "execute_result"
    }
   ],
   "source": [
    "# Determine most important features/words in our model\n",
    "rfc_feature_importances = pd.DataFrame(rfc.feature_importances_,\n",
    "                                   index = X.columns,\n",
    "                                    columns=['importance']).sort_values('importance',\n",
    "                                    ascending=False)\n",
    "print(rfc_feature_importances.head(10))\n",
    "rfc_feature_importances.head(10).sum()\n"
   ]
  },
  {
   "cell_type": "code",
   "execution_count": null,
   "metadata": {},
   "outputs": [],
   "source": []
  },
  {
   "cell_type": "code",
   "execution_count": 534,
   "metadata": {},
   "outputs": [],
   "source": [
    "#we want to first define our x and y variables and instantiate a CountVectorizer\n",
    "X = df_scraped['Subreddit']\n",
    "y = df_scraped['High']"
   ]
  },
  {
   "cell_type": "code",
   "execution_count": 535,
   "metadata": {},
   "outputs": [],
   "source": [
    "cvec = CountVectorizer(stop_words = 'english')  #let's exclude stopwords, then fit and transform our x data"
   ]
  },
  {
   "cell_type": "code",
   "execution_count": 536,
   "metadata": {},
   "outputs": [],
   "source": [
    "X  = pd.DataFrame(cvec.fit_transform(X).todense(),\n",
    "             columns=cvec.get_feature_names())"
   ]
  },
  {
   "cell_type": "code",
   "execution_count": 537,
   "metadata": {},
   "outputs": [
    {
     "data": {
      "text/html": [
       "<div>\n",
       "<style>\n",
       "    .dataframe thead tr:only-child th {\n",
       "        text-align: right;\n",
       "    }\n",
       "\n",
       "    .dataframe thead th {\n",
       "        text-align: left;\n",
       "    }\n",
       "\n",
       "    .dataframe tbody tr th {\n",
       "        vertical-align: top;\n",
       "    }\n",
       "</style>\n",
       "<table border=\"1\" class=\"dataframe\">\n",
       "  <thead>\n",
       "    <tr style=\"text-align: right;\">\n",
       "      <th></th>\n",
       "      <th>2healthbars</th>\n",
       "      <th>2meirl4meirl</th>\n",
       "      <th>30rock</th>\n",
       "      <th>abandonedporn</th>\n",
       "      <th>absolutelynotmeirl</th>\n",
       "      <th>adventuretime</th>\n",
       "      <th>againsthatesubreddits</th>\n",
       "      <th>amateurroomporn</th>\n",
       "      <th>analog</th>\n",
       "      <th>android</th>\n",
       "      <th>...</th>\n",
       "      <th>worldnews</th>\n",
       "      <th>writingprompts</th>\n",
       "      <th>xboxone</th>\n",
       "      <th>yesyesyesyesno</th>\n",
       "      <th>youdontsurf</th>\n",
       "      <th>youseeingthisshit</th>\n",
       "      <th>youtubehaiku</th>\n",
       "      <th>zelda</th>\n",
       "      <th>zerowaste</th>\n",
       "      <th>zoomies</th>\n",
       "    </tr>\n",
       "  </thead>\n",
       "  <tbody>\n",
       "    <tr>\n",
       "      <th>0</th>\n",
       "      <td>0</td>\n",
       "      <td>0</td>\n",
       "      <td>0</td>\n",
       "      <td>0</td>\n",
       "      <td>0</td>\n",
       "      <td>0</td>\n",
       "      <td>0</td>\n",
       "      <td>0</td>\n",
       "      <td>0</td>\n",
       "      <td>0</td>\n",
       "      <td>...</td>\n",
       "      <td>0</td>\n",
       "      <td>0</td>\n",
       "      <td>0</td>\n",
       "      <td>0</td>\n",
       "      <td>0</td>\n",
       "      <td>0</td>\n",
       "      <td>0</td>\n",
       "      <td>0</td>\n",
       "      <td>0</td>\n",
       "      <td>0</td>\n",
       "    </tr>\n",
       "    <tr>\n",
       "      <th>1</th>\n",
       "      <td>0</td>\n",
       "      <td>0</td>\n",
       "      <td>0</td>\n",
       "      <td>0</td>\n",
       "      <td>0</td>\n",
       "      <td>0</td>\n",
       "      <td>0</td>\n",
       "      <td>0</td>\n",
       "      <td>0</td>\n",
       "      <td>0</td>\n",
       "      <td>...</td>\n",
       "      <td>0</td>\n",
       "      <td>0</td>\n",
       "      <td>0</td>\n",
       "      <td>0</td>\n",
       "      <td>0</td>\n",
       "      <td>0</td>\n",
       "      <td>0</td>\n",
       "      <td>0</td>\n",
       "      <td>0</td>\n",
       "      <td>0</td>\n",
       "    </tr>\n",
       "    <tr>\n",
       "      <th>2</th>\n",
       "      <td>0</td>\n",
       "      <td>0</td>\n",
       "      <td>0</td>\n",
       "      <td>0</td>\n",
       "      <td>0</td>\n",
       "      <td>0</td>\n",
       "      <td>0</td>\n",
       "      <td>0</td>\n",
       "      <td>0</td>\n",
       "      <td>0</td>\n",
       "      <td>...</td>\n",
       "      <td>0</td>\n",
       "      <td>0</td>\n",
       "      <td>0</td>\n",
       "      <td>0</td>\n",
       "      <td>0</td>\n",
       "      <td>0</td>\n",
       "      <td>0</td>\n",
       "      <td>0</td>\n",
       "      <td>0</td>\n",
       "      <td>0</td>\n",
       "    </tr>\n",
       "    <tr>\n",
       "      <th>3</th>\n",
       "      <td>0</td>\n",
       "      <td>0</td>\n",
       "      <td>0</td>\n",
       "      <td>0</td>\n",
       "      <td>0</td>\n",
       "      <td>0</td>\n",
       "      <td>0</td>\n",
       "      <td>0</td>\n",
       "      <td>0</td>\n",
       "      <td>0</td>\n",
       "      <td>...</td>\n",
       "      <td>0</td>\n",
       "      <td>0</td>\n",
       "      <td>0</td>\n",
       "      <td>0</td>\n",
       "      <td>0</td>\n",
       "      <td>0</td>\n",
       "      <td>0</td>\n",
       "      <td>0</td>\n",
       "      <td>0</td>\n",
       "      <td>0</td>\n",
       "    </tr>\n",
       "    <tr>\n",
       "      <th>4</th>\n",
       "      <td>0</td>\n",
       "      <td>0</td>\n",
       "      <td>0</td>\n",
       "      <td>0</td>\n",
       "      <td>0</td>\n",
       "      <td>0</td>\n",
       "      <td>0</td>\n",
       "      <td>0</td>\n",
       "      <td>0</td>\n",
       "      <td>0</td>\n",
       "      <td>...</td>\n",
       "      <td>0</td>\n",
       "      <td>0</td>\n",
       "      <td>0</td>\n",
       "      <td>0</td>\n",
       "      <td>0</td>\n",
       "      <td>0</td>\n",
       "      <td>0</td>\n",
       "      <td>0</td>\n",
       "      <td>0</td>\n",
       "      <td>0</td>\n",
       "    </tr>\n",
       "  </tbody>\n",
       "</table>\n",
       "<p>5 rows × 436 columns</p>\n",
       "</div>"
      ],
      "text/plain": [
       "   2healthbars  2meirl4meirl  30rock  abandonedporn  absolutelynotmeirl  \\\n",
       "0            0             0       0              0                   0   \n",
       "1            0             0       0              0                   0   \n",
       "2            0             0       0              0                   0   \n",
       "3            0             0       0              0                   0   \n",
       "4            0             0       0              0                   0   \n",
       "\n",
       "   adventuretime  againsthatesubreddits  amateurroomporn  analog  android  \\\n",
       "0              0                      0                0       0        0   \n",
       "1              0                      0                0       0        0   \n",
       "2              0                      0                0       0        0   \n",
       "3              0                      0                0       0        0   \n",
       "4              0                      0                0       0        0   \n",
       "\n",
       "    ...     worldnews  writingprompts  xboxone  yesyesyesyesno  youdontsurf  \\\n",
       "0   ...             0               0        0               0            0   \n",
       "1   ...             0               0        0               0            0   \n",
       "2   ...             0               0        0               0            0   \n",
       "3   ...             0               0        0               0            0   \n",
       "4   ...             0               0        0               0            0   \n",
       "\n",
       "   youseeingthisshit  youtubehaiku  zelda  zerowaste  zoomies  \n",
       "0                  0             0      0          0        0  \n",
       "1                  0             0      0          0        0  \n",
       "2                  0             0      0          0        0  \n",
       "3                  0             0      0          0        0  \n",
       "4                  0             0      0          0        0  \n",
       "\n",
       "[5 rows x 436 columns]"
      ]
     },
     "execution_count": 537,
     "metadata": {},
     "output_type": "execute_result"
    }
   ],
   "source": [
    "X.head()"
   ]
  },
  {
   "cell_type": "code",
   "execution_count": 538,
   "metadata": {},
   "outputs": [
    {
     "data": {
      "text/plain": [
       "(5000, 436)"
      ]
     },
     "execution_count": 538,
     "metadata": {},
     "output_type": "execute_result"
    }
   ],
   "source": [
    "X.shape"
   ]
  },
  {
   "cell_type": "code",
   "execution_count": 539,
   "metadata": {},
   "outputs": [],
   "source": [
    "# split our data into our training and test sets! \n",
    "\n",
    "X_train, X_test, y_train, y_test = train_test_split(X, y, test_size=0.3)"
   ]
  },
  {
   "cell_type": "code",
   "execution_count": 540,
   "metadata": {},
   "outputs": [],
   "source": [
    "# use a random forest classifier\n",
    "\n",
    "rfc = RandomForestClassifier()"
   ]
  },
  {
   "cell_type": "code",
   "execution_count": 541,
   "metadata": {},
   "outputs": [
    {
     "data": {
      "text/plain": [
       "RandomForestClassifier(bootstrap=True, class_weight=None, criterion='gini',\n",
       "            max_depth=None, max_features='auto', max_leaf_nodes=None,\n",
       "            min_impurity_decrease=0.0, min_impurity_split=None,\n",
       "            min_samples_leaf=1, min_samples_split=2,\n",
       "            min_weight_fraction_leaf=0.0, n_estimators=10, n_jobs=1,\n",
       "            oob_score=False, random_state=None, verbose=0,\n",
       "            warm_start=False)"
      ]
     },
     "execution_count": 541,
     "metadata": {},
     "output_type": "execute_result"
    }
   ],
   "source": [
    "# fit our model\n",
    "\n",
    "rfc.fit(X_train, y_train)"
   ]
  },
  {
   "cell_type": "code",
   "execution_count": 542,
   "metadata": {
    "scrolled": true
   },
   "outputs": [
    {
     "data": {
      "text/plain": [
       "0.8422857142857143"
      ]
     },
     "execution_count": 542,
     "metadata": {},
     "output_type": "execute_result"
    }
   ],
   "source": [
    "# score our model on the training and test sets \n",
    "\n",
    "rfc.score(X_train, y_train)"
   ]
  },
  {
   "cell_type": "code",
   "execution_count": 543,
   "metadata": {},
   "outputs": [
    {
     "data": {
      "text/plain": [
       "0.83199999999999996"
      ]
     },
     "execution_count": 543,
     "metadata": {},
     "output_type": "execute_result"
    }
   ],
   "source": [
    "rfc.score(X_test, y_test)   # What does this output/score mean? Is this good? 97% - not too shabby. "
   ]
  },
  {
   "cell_type": "code",
   "execution_count": 544,
   "metadata": {},
   "outputs": [
    {
     "data": {
      "text/plain": [
       "1.0"
      ]
     },
     "execution_count": 544,
     "metadata": {},
     "output_type": "execute_result"
    }
   ],
   "source": [
    "# What was our base model score?\n",
    "base_score = np.median(y_test)\n",
    "base_score"
   ]
  },
  {
   "cell_type": "code",
   "execution_count": 545,
   "metadata": {},
   "outputs": [
    {
     "data": {
      "text/plain": [
       "array([1, 1, 1, ..., 1, 0, 0])"
      ]
     },
     "execution_count": 545,
     "metadata": {},
     "output_type": "execute_result"
    }
   ],
   "source": [
    "predictions = rfc.predict(X_test)  # we need to get our models predictions based on the x_test data\n",
    "predictions"
   ]
  },
  {
   "cell_type": "code",
   "execution_count": 546,
   "metadata": {},
   "outputs": [
    {
     "data": {
      "text/plain": [
       "1500"
      ]
     },
     "execution_count": 546,
     "metadata": {},
     "output_type": "execute_result"
    }
   ],
   "source": [
    "len(predictions)"
   ]
  },
  {
   "cell_type": "code",
   "execution_count": 547,
   "metadata": {
    "scrolled": true
   },
   "outputs": [],
   "source": [
    "conmat = pd.DataFrame(confusion_matrix(y_test, predictions), \n",
    "                      columns=['predicted_low(0)', 'predicted_high(1)'], \n",
    "                      index=['is_low(0)', 'is_high(1)'])"
   ]
  },
  {
   "cell_type": "code",
   "execution_count": 548,
   "metadata": {},
   "outputs": [
    {
     "name": "stdout",
     "output_type": "stream",
     "text": [
      "\n",
      "Classification Report:\n",
      "              precision    recall  f1-score   support\n",
      "\n",
      "          0       0.85      0.80      0.82       742\n",
      "          1       0.81      0.87      0.84       758\n",
      "\n",
      "avg / total       0.83      0.83      0.83      1500\n",
      "\n"
     ]
    }
   ],
   "source": [
    "print(\"\\nClassification Report:\\n\",classification_report(y_test, predictions))\n",
    "\n",
    "# What is this telling us? \n",
    "# Looks pretty accurate. "
   ]
  },
  {
   "cell_type": "code",
   "execution_count": 549,
   "metadata": {},
   "outputs": [
    {
     "data": {
      "text/plain": [
       "array([ 0.51839407,  0.72379032,  1.        , ...,  0.68573376,\n",
       "        0.1       ,  0.5       ])"
      ]
     },
     "execution_count": 549,
     "metadata": {},
     "output_type": "execute_result"
    }
   ],
   "source": [
    "# Determine AUC score and visualize ROC curve\n",
    "\n",
    "rfc_y_score = rfc.predict_proba(X_test)[:, 1] #<-- formats output as one long array\n",
    "rfc_y_score"
   ]
  },
  {
   "cell_type": "code",
   "execution_count": 550,
   "metadata": {},
   "outputs": [
    {
     "name": "stdout",
     "output_type": "stream",
     "text": [
      "0.912168673414\n"
     ]
    }
   ],
   "source": [
    "print(roc_auc_score(y_test, rfc_y_score))  # TRUE-POSITIVES ONLY\n"
   ]
  },
  {
   "cell_type": "code",
   "execution_count": 551,
   "metadata": {},
   "outputs": [
    {
     "data": {
      "image/png": "[encoded data removed]",
      "text/plain": [
       "<matplotlib.figure.Figure at 0x1fa25692cf8>"
      ]
     },
     "metadata": {},
     "output_type": "display_data"
    }
   ],
   "source": [
    "# Visualize the curve\n",
    "\n",
    "rfc_FPR = dict()\n",
    "rfc_TPR = dict()\n",
    "rfc_ROC_AUC = dict()\n",
    "\n",
    "rfc_FPR[1], rfc_TPR[1], _ = roc_curve(y_test, rfc_y_score)\n",
    "rfc_ROC_AUC[1] = auc(rfc_FPR[1], rfc_TPR[1])\n",
    "\n",
    "plt.figure(figsize=[7,5])\n",
    "plt.plot(rfc_FPR[1], rfc_TPR[1], label='ROC curve (area = %0.3f)' % rfc_ROC_AUC[1], linewidth=3)\n",
    "plt.plot([0, 1], [0, 1], 'k--', linewidth=3)\n",
    "plt.xlim([0.0, 1])\n",
    "plt.ylim([0.0, 1])\n",
    "plt.xlabel('False Positive Rate', fontsize=18)\n",
    "plt.ylabel('True Positive Rate', fontsize=18)\n",
    "plt.title('Random Forest Classifier ROC Curve after COUNT VECTORIZATION', fontsize=18)\n",
    "plt.legend(loc=\"lower right\")\n",
    "plt.show()"
   ]
  },
  {
   "cell_type": "code",
   "execution_count": 552,
   "metadata": {
    "scrolled": true
   },
   "outputs": [
    {
     "name": "stdout",
     "output_type": "stream",
     "text": [
      "                importance\n",
      "aww               0.023996\n",
      "news              0.018547\n",
      "showerthoughts    0.013864\n",
      "prequelmemes      0.013737\n",
      "gaming            0.012902\n",
      "askreddit         0.009493\n",
      "pics              0.009334\n",
      "gifs              0.008333\n",
      "movies            0.008022\n",
      "jokes             0.007075\n"
     ]
    },
    {
     "data": {
      "text/plain": [
       "importance    0.125302\n",
       "dtype: float64"
      ]
     },
     "execution_count": 552,
     "metadata": {},
     "output_type": "execute_result"
    }
   ],
   "source": [
    "# Determine most important features/words in our model\n",
    "rfc_feature_importances = pd.DataFrame(rfc.feature_importances_,\n",
    "                                   index = X.columns,\n",
    "                                    columns=['importance']).sort_values('importance',\n",
    "                                    ascending=False)\n",
    "print(rfc_feature_importances.head(10))\n",
    "rfc_feature_importances.head(10).sum()\n"
   ]
  },
  {
   "cell_type": "markdown",
   "metadata": {},
   "source": [
    "# Executive Summary\n",
    "---\n",
    "Put your executive summary in a Markdown cell below."
   ]
  },
  {
   "cell_type": "markdown",
   "metadata": {},
   "source": [
    "Fivethirtyeight is great at what it does - STATS. The numbers and charts are fantastic, but the audience is stagnant. How do you drive the world to find out about your brilliant stats and conclusions? \n",
    "\n",
    "Reddit is an online message board that allows users to post their thoughts about the topics of the day, as heard in the world, at a specific moment in time. \n",
    "\n",
    "Consistently getting your fivethirtyeight posts in the top of the ‘Hot’ pages on Reddit will drive consumer awareness and grow your brand. \n",
    "\n",
    "Our proposal will show you how to make your posts ‘Hot’ on Reddit! \n"
   ]
  },
  {
   "cell_type": "markdown",
   "metadata": {
    "focus": false,
    "id": "3be94357-e551-4094-b784-2df039216d33"
   },
   "source": [
    "### BONUS\n",
    "Refer to the README for the bonus parts"
   ]
  },
  {
   "cell_type": "code",
   "execution_count": 513,
   "metadata": {
    "focus": false,
    "id": "4239e458-28bd-4675-8db3-c1d9c02b9854"
   },
   "outputs": [],
   "source": [
    "## YOUR CODE HERE"
   ]
  },
  {
   "cell_type": "markdown",
   "metadata": {},
   "source": [
    "### THE GRAVEYARD OF LEFTOVER CODE (R.I.P.)"
   ]
  }
 ],
 "metadata": {
  "anaconda-cloud": {},
  "kernelspec": {
   "display_name": "Python [default]",
   "language": "python",
   "name": "python3"
  },
  "language_info": {
   "codemirror_mode": {
    "name": "ipython",
    "version": 3
   },
   "file_extension": ".py",
   "mimetype": "text/x-python",
   "name": "python",
   "nbconvert_exporter": "python",
   "pygments_lexer": "ipython3",
   "version": "3.6.3"
  },
  "varInspector": {
   "cols": {
    "lenName": 16,
    "lenType": 16,
    "lenVar": 40
   },
   "kernels_config": {
    "python": {
     "delete_cmd_postfix": "",
     "delete_cmd_prefix": "del ",
     "library": "var_list.py",
     "varRefreshCmd": "print(var_dic_list())"
    },
    "r": {
     "delete_cmd_postfix": ") ",
     "delete_cmd_prefix": "rm(",
     "library": "var_list.r",
     "varRefreshCmd": "cat(var_dic_list()) "
    }
   },
   "types_to_exclude": [
    "module",
    "function",
    "builtin_function_or_method",
    "instance",
    "_Feature"
   ],
   "window_display": false
  }
 },
 "nbformat": 4,
 "nbformat_minor": 1
}
